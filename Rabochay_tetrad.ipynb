{
  "metadata": {
    "language_info": {
      "codemirror_mode": {
        "name": "python",
        "version": 3
      },
      "file_extension": ".py",
      "mimetype": "text/x-python",
      "name": "python",
      "nbconvert_exporter": "python",
      "pygments_lexer": "ipython3",
      "version": "3.8"
    },
    "kernelspec": {
      "name": "python",
      "display_name": "Python (Pyodide)",
      "language": "python"
    },
    "colab": {
      "provenance": []
    }
  },
  "nbformat_minor": 0,
  "nbformat": 4,
  "cells": [
    {
      "cell_type": "code",
      "source": [
        "#Рабочая тетрадь 1. Основы Python \n",
        "## Аникин Кирилл\n"
      ],
      "metadata": {
        "id": "ipgdghS3NOpf"
      },
      "execution_count": null,
      "outputs": []
    },
    {
      "cell_type": "markdown",
      "source": [
        "Типы данных\n",
        "Все типы данных в Python относятся к одной из 2-х категорий: \n",
        "изменяемые (mutable) и неизменяемые (immutable).\n",
        "Неизменяемые объекты:\n",
        "  -числовые данные (int, float),\n",
        "   -bool,\n",
        "   -None,\n",
        "    -символьные строки (class 'str'),\n",
        "    -кортежи (tuple).\n",
        "    -Изменяемые объекты:\n",
        "    -списки (list),\n",
        "    -множества (set),\n",
        "    -словари (dict).\n"
      ],
      "metadata": {
        "id": "_7UQZZotNOpi"
      }
    },
    {
      "cell_type": "code",
      "source": [
        "**1.2. Пример\n",
        "Задача:Выведите на печать и определите тип переменной.\n",
        " \n"
      ],
      "metadata": {
        "trusted": true,
        "id": "SaPzuKbJNOpj",
        "outputId": "d89fb274-47db-42a8-ab6c-5b2a4151441b"
      },
      "execution_count": null,
      "outputs": [
        {
          "ename": "<class 'SyntaxError'>",
          "evalue": "invalid syntax (<ipython-input-36-7296efeecc25>, line 1)",
          "traceback": [
            "\u001b[0;36m  Cell \u001b[0;32mIn [36], line 1\u001b[0;36m\u001b[0m\n\u001b[0;31m    **1.2. Пример\u001b[0m\n\u001b[0m    ^\u001b[0m\n\u001b[0;31mSyntaxError\u001b[0m\u001b[0;31m:\u001b[0m invalid syntax\n"
          ],
          "output_type": "error"
        }
      ]
    },
    {
      "cell_type": "code",
      "source": [
        "x=5 >=2\n",
        "a={1,3,7,8}\n",
        "b={2,4,5,10,'apple'}\n",
        "c=a&b\n",
        "df='Antonina Antonina',34,'j'\n",
        "z='type'\n",
        "d=[1,'title',2,'content']\n",
        "print(x,'|',type(x),'\\n',a,'|',type(a),'\\n',b,'|',type(b),'\\n',c,'|',type(c),'\\n')"
      ],
      "metadata": {
        "trusted": true,
        "id": "D966mQhMNOpk",
        "outputId": "136bd180-147c-4167-912a-f1149a6598e1"
      },
      "execution_count": null,
      "outputs": [
        {
          "name": "stdout",
          "text": "True | <class 'bool'> \n {8, 1, 3, 7} | <class 'set'> \n {2, 4, 5, 10, 'apple'} | <class 'set'> \n set() | <class 'set'> \n\n",
          "output_type": "stream"
        }
      ]
    },
    {
      "cell_type": "markdown",
      "source": [
        "Ответ на задачу\n"
      ],
      "metadata": {
        "id": "GI4t8wI8hWEB"
      }
    },
    {
      "cell_type": "code",
      "source": [
        "print(x,'|',type(x),'\\n',a,'|',type(a),'\\n',b,'|',type(b),'\\n',c,'|',type(c),'\\n',df,'|',type(df),z,'|',type(z),x,'|',d,'|',type(d),                             )"
      ],
      "metadata": {
        "trusted": true,
        "id": "wft5h0srNOpk",
        "outputId": "d0c734f8-0126-4faa-834a-0cca5555e305"
      },
      "execution_count": null,
      "outputs": [
        {
          "name": "stdout",
          "text": "True | <class 'bool'> \n {8, 1, 3, 7} | <class 'set'> \n {2, 4, 5, 10, 'apple'} | <class 'set'> \n set() | <class 'set'> \n ('Antonina Antonina', 34, 'j') | <class 'tuple'> type | <class 'str'> True | [1, 'title', 2, 'content'] | <class 'list'>\n",
          "output_type": "stream"
        }
      ]
    },
    {
      "cell_type": "code",
      "source": [
        "2.1. Теоретический материал – Условный оператор\n",
        "If  –Условный оператор\n",
        "В коде часто приходится проверять выполнимость или невыполнимость каких-то условий. Синтаксис:\n",
        "if<условие1 (булевское выражение)> :\n",
        "<код, который выполнится, если условие верно>\n",
        "elif<условие2 (булевское выражение)>:\n",
        "<код, который выполнится, если условие1 было неверно, а условие2верно>\n",
        "else:\n",
        "<код, который выполнится, если условие1 и условие2 были неверны>\n",
        "Обратите внимание, что код, который должен выполняться внутри каждого условия, записывается с отступом в 4 пробела от уровня if, elif и else: в питоне области видимости переменных обозначаются отступами.\n",
        "То есть, отступы позволяют понять, где начинается код, который должен выполняться при выполнении условия в if, и где заканчивается.\n",
        "2.2. Пример\n",
        "1.\tЗадача:\n",
        "Вывести на экран является ли переменная х положительной, отрицательной или равна нулю.\n"
      ],
      "metadata": {
        "id": "Srqqni1WNOpl"
      },
      "execution_count": null,
      "outputs": []
    },
    {
      "cell_type": "code",
      "source": [
        "Решение\n"
      ],
      "metadata": {
        "trusted": true,
        "id": "kr_7c4ODNOpl",
        "outputId": "1bf9a8f0-76e6-4d7a-d8ec-a532e0f71aff"
      },
      "execution_count": null,
      "outputs": [
        {
          "ename": "<class 'NameError'>",
          "evalue": "name 'Решение' is not defined",
          "traceback": [
            "\u001b[0;31m---------------------------------------------------------------------------\u001b[0m",
            "\u001b[0;31mNameError\u001b[0m                                 Traceback (most recent call last)",
            "Cell \u001b[0;32mIn [43], line 1\u001b[0m\n\u001b[0;32m----> 1\u001b[0m \u001b[43mРешение\u001b[49m\n",
            "\u001b[0;31mNameError\u001b[0m: name 'Решение' is not defined"
          ],
          "output_type": "error"
        }
      ]
    },
    {
      "cell_type": "code",
      "source": [
        "x=125\n",
        "if x<0:\n",
        "        print(\"x отрицательный\")\n",
        "elif x==0:\n",
        "        print(\"x равен нулю\")\n",
        "else:\n",
        "        print(\"x положительный\")"
      ],
      "metadata": {
        "trusted": true,
        "id": "sNevtfoYNOpm",
        "outputId": "01a578f1-6f3d-4dc4-ef59-d68f07d641b3"
      },
      "execution_count": null,
      "outputs": [
        {
          "name": "stdout",
          "text": "x положительный\n",
          "output_type": "stream"
        }
      ]
    },
    {
      "cell_type": "code",
      "source": [
        "2.3. Задание\n",
        "Задача:\n",
        "Напишите код.\n",
        "Задается х, напечатать какому из интервалов принадлежит: \n",
        "    (-infinity, -5), [-5, 5] или от (5, +infinity)\n",
        "    Решение :\n"
      ],
      "metadata": {
        "id": "2379g99fNOpn"
      },
      "execution_count": null,
      "outputs": []
    },
    {
      "cell_type": "code",
      "source": [
        "import math\n",
        "x=-5\n",
        "if x > -2221321312321312 and x <-5:\n",
        "    print(\"-infinity,-5\")\n",
        "if x>=-5 and x<5:\n",
        "        print('-5...5')\n",
        "        if x>=5 and x <=2221321312321312:\n",
        "            print('5..+inf')\n",
        "        "
      ],
      "metadata": {
        "trusted": true,
        "id": "1X_ivmzQNOpn",
        "outputId": "6ac469e2-1635-4856-ff16-a7fbe0e8f21e"
      },
      "execution_count": null,
      "outputs": [
        {
          "name": "stdout",
          "text": "-5...5\n",
          "output_type": "stream"
        }
      ]
    },
    {
      "cell_type": "code",
      "source": [
        "3.1. Теоретический материал – Циклы, массивы, срезы\n",
        "Циклы - for и while\n",
        "Цикл while проверяет истинность условия, и если условие истинно, то выполняет инструкции цикла.\n",
        "Синтаксис:\n",
        "while условие:\n",
        " инструкции\n",
        "Инструкции, которые относятся к циклу while, располагаются на последующих строках и должны иметь отступ от начала ключевого слова while.\n",
        "Цикл forпроходит по набору значений, помещает каждое значение в переменную с которой в цикле можно производить различные действия.\n",
        "Синтаксис:\n",
        "for переменная in набор_значений:\n",
        "    инструкции\n",
        "После ключевого слова for идет название переменной, в которую будут помещаться значения. После оператора in указывается набор значений и двоеточие. Инструкции, которые относятся к циклу, располагаются на последующих строках и должны иметь отступ.\n",
        "При создании цикла удобно пользоваться функциейrange(a, b), которая создает последовательность чисел от a до b-1.\n"
      ],
      "metadata": {
        "id": "XUTi35EWNOpn"
      },
      "execution_count": null,
      "outputs": []
    },
    {
      "cell_type": "code",
      "source": [
        "3.2.1. Пример"
      ],
      "metadata": {
        "id": "sFgT0whkNOpo"
      },
      "execution_count": null,
      "outputs": []
    },
    {
      "cell_type": "code",
      "source": [
        "Задача:\n",
        "Вывести все числа от 1 до 10 с шагом 3.\n",
        "Решение"
      ],
      "metadata": {
        "id": "7PWTMmoZNOpo"
      },
      "execution_count": null,
      "outputs": []
    },
    {
      "cell_type": "code",
      "source": [
        "x=1\n",
        "while x <=10:\n",
        "    print(x)\n",
        "    x+=3"
      ],
      "metadata": {
        "trusted": true,
        "id": "Ga2AeWWDNOpo",
        "outputId": "68730e85-82b3-43b9-a23f-9904bf5f68d5"
      },
      "execution_count": null,
      "outputs": [
        {
          "name": "stdout",
          "text": "1\n4\n7\n10\n",
          "output_type": "stream"
        }
      ]
    },
    {
      "cell_type": "code",
      "source": [
        "3.2.2. Пример\n",
        "Задан список. Напечатать все элементы списка.\n",
        "Решение:"
      ],
      "metadata": {
        "trusted": true,
        "id": "LBSJSmsbNOpp",
        "outputId": "c1704659-55b0-4e3c-d55b-7380634a6381"
      },
      "execution_count": null,
      "outputs": [
        {
          "ename": "<class 'SyntaxError'>",
          "evalue": "invalid syntax (<ipython-input-54-3f930f68b06f>, line 1)",
          "traceback": [
            "\u001b[0;36m  Cell \u001b[0;32mIn [54], line 1\u001b[0;36m\u001b[0m\n\u001b[0;31m    3.2.2. Пример\u001b[0m\n\u001b[0m       ^\u001b[0m\n\u001b[0;31mSyntaxError\u001b[0m\u001b[0;31m:\u001b[0m invalid syntax\n"
          ],
          "output_type": "error"
        }
      ]
    },
    {
      "cell_type": "code",
      "source": [
        "models =['KNN','DECISION TREE','LINEAR MODEL']\n",
        "for model in models:\n",
        "    print(model)"
      ],
      "metadata": {
        "trusted": true,
        "id": "0_xfNVxbNOpp",
        "outputId": "1175456b-d052-4f57-878d-d6a85c97aa47"
      },
      "execution_count": null,
      "outputs": [
        {
          "name": "stdout",
          "text": "KNN\nDECISION TREE\nLINEAR MODEL\n",
          "output_type": "stream"
        }
      ]
    },
    {
      "cell_type": "code",
      "source": [
        "3.2.3. Пример\n",
        "Создать список от 1 до 99 с шагом 7."
      ],
      "metadata": {
        "id": "QUSkY-LONOpp"
      },
      "execution_count": null,
      "outputs": []
    },
    {
      "cell_type": "code",
      "source": [
        "list_int=range(1,100,7)\n",
        "print(list(list_int))"
      ],
      "metadata": {
        "trusted": true,
        "id": "VM1Zk3a4NOpp",
        "outputId": "3c79ff1d-7c37-4774-ccb8-2c15696daf99"
      },
      "execution_count": null,
      "outputs": [
        {
          "name": "stdout",
          "text": "[1, 8, 15, 22, 29, 36, 43, 50, 57, 64, 71, 78, 85, 92, 99]\n",
          "output_type": "stream"
        }
      ]
    },
    {
      "cell_type": "code",
      "source": [
        "3.2.4. Пример\n",
        "Задача:\n",
        "Вывести на экран числа от 5 до 105 с шагом 25, используя функцию range()\n"
      ],
      "metadata": {
        "id": "PLpR-dXDNOpq"
      },
      "execution_count": null,
      "outputs": []
    },
    {
      "cell_type": "code",
      "source": [
        "for i in range(5 ,106, 25):\n",
        "    print(i)"
      ],
      "metadata": {
        "trusted": true,
        "id": "mPw9f7TCNOpq",
        "outputId": "93218134-3b39-4937-a996-21ad3380ce55"
      },
      "execution_count": null,
      "outputs": [
        {
          "name": "stdout",
          "text": "5\n30\n55\n80\n105\n",
          "output_type": "stream"
        }
      ]
    },
    {
      "cell_type": "code",
      "source": [
        "3.2.5. Пример\n",
        "Задача:\n",
        "Срез.\n",
        "Необходимо получить каждый k-й элемент массива a, начиная с элемента с индексом i (включительно) и заканчивая элементом с индексом j (не включительно),\n",
        "c шагом 2. Переставить все элементы в обратном порядке.\n",
        "Решение"
      ],
      "metadata": {
        "id": "C7TJqq9kNOpq"
      },
      "execution_count": null,
      "outputs": []
    },
    {
      "cell_type": "code",
      "source": [
        "a=[1,2,3,4,5,6,7,8,9]\n",
        "b=a[1:7:2]\n",
        "c=a[::-1]\n",
        "print(b)\n",
        "print(c)"
      ],
      "metadata": {
        "trusted": true,
        "id": "xIbbDT9pNOpq",
        "outputId": "f8915a0c-2256-49b6-d93a-3ace0ab10f5f"
      },
      "execution_count": null,
      "outputs": [
        {
          "name": "stdout",
          "text": "[2, 4, 6]\n[9, 8, 7, 6, 5, 4, 3, 2, 1]\n",
          "output_type": "stream"
        }
      ]
    },
    {
      "cell_type": "code",
      "source": [
        "3.3.1 Задание\n",
        "Задача:\n",
        "Выведите числа из примера на while (3.2.1) в обратном порядке.\n"
      ],
      "metadata": {
        "id": "dUZ6CSipNOpr"
      },
      "execution_count": null,
      "outputs": []
    },
    {
      "cell_type": "code",
      "source": [
        "n = [1,4,7,10]\n",
        "print(n[::-1],end = ' ')\n",
        "\n",
        "\n",
        "    \n",
        "\n",
        "    "
      ],
      "metadata": {
        "trusted": true,
        "colab": {
          "base_uri": "https://localhost:8080/"
        },
        "id": "vnbotuoqNOpr",
        "outputId": "08b0588e-e07c-4178-a76d-4b557250d8dc"
      },
      "execution_count": null,
      "outputs": [
        {
          "output_type": "stream",
          "name": "stdout",
          "text": [
            "[10, 7, 4, 1] "
          ]
        }
      ]
    },
    {
      "cell_type": "markdown",
      "source": [
        "# 3.3.2 Задание\n",
        "1. Задача:\n",
        "При решении задач машинного обучения часто в качестве объектов\n",
        "исследования выступает человек. Создайте список значимых\n",
        "характеристик (признаков), идентифицирующих человека. Выведите\n",
        "список на экран."
      ],
      "metadata": {
        "id": "HgEu5VD0NOpr"
      }
    },
    {
      "cell_type": "code",
      "source": [
        "x=['Голова','Туловище','Рост','Чувствительность (тактильная)']\n",
        "for i in x:\n",
        "  print(i)"
      ],
      "metadata": {
        "colab": {
          "base_uri": "https://localhost:8080/"
        },
        "id": "FF4OXXBLNOpr",
        "outputId": "ddc54e7e-70e6-4bf3-d150-5a0374e01822"
      },
      "execution_count": null,
      "outputs": [
        {
          "output_type": "stream",
          "name": "stdout",
          "text": [
            "Голова\n",
            "Туловище\n",
            "Рост\n",
            "Чувствительность (тактильная)\n"
          ]
        }
      ]
    },
    {
      "cell_type": "code",
      "source": [
        "3.3.3 Задание\n",
        "1. Задача:\n",
        "Создать список чисел от 2 до 15 с шагом 1.\n",
        "Решение:"
      ],
      "metadata": {
        "id": "L-3W7FA8NOpr"
      },
      "execution_count": null,
      "outputs": []
    },
    {
      "cell_type": "code",
      "source": [
        "for i in range(2,15,1):\n",
        "  print(i,end=\" \")"
      ],
      "metadata": {
        "colab": {
          "base_uri": "https://localhost:8080/"
        },
        "id": "16UJBj-edjDP",
        "outputId": "949623e0-439c-4ded-bfc1-44c3ea86506b"
      },
      "execution_count": null,
      "outputs": [
        {
          "output_type": "stream",
          "name": "stdout",
          "text": [
            "2 3 4 5 6 7 8 9 10 11 12 13 14 "
          ]
        }
      ]
    },
    {
      "cell_type": "code",
      "source": [
        "3.3.4 Задание\n",
        "1. Задача:\n",
        "Выведите числа из примера на for c функцией range() (3.2.4) в\n",
        "обратном порядке."
      ],
      "metadata": {
        "id": "M34RrO5ld4up"
      },
      "execution_count": null,
      "outputs": []
    },
    {
      "cell_type": "code",
      "source": [
        "for i in range(106 ,5, -25,):\n",
        "  print(i,end=\" \")\n",
        "  "
      ],
      "metadata": {
        "colab": {
          "base_uri": "https://localhost:8080/"
        },
        "id": "59-6fUp4eRnb",
        "outputId": "abc922e9-5ea3-4c11-e5d0-35ed9cd2d359"
      },
      "execution_count": null,
      "outputs": [
        {
          "output_type": "stream",
          "name": "stdout",
          "text": [
            "106 81 56 31 6 "
          ]
        }
      ]
    },
    {
      "cell_type": "code",
      "source": [
        "3.3.5 Задание\n",
        "1. Задача:\n",
        "Срез. Напишите код, который все элементы массива x с четными\n",
        "индексами переставит в обратном порядке. Т.е. если x = [0, 1, 2, 3, 4,\n",
        "5, 6, 7, 8, 9], то код должен сформировать [8, 1, 6, 3, 4, 5, 2, 7, 0, 9]."
      ],
      "metadata": {
        "id": "bcQdwotziU5Z"
      },
      "execution_count": null,
      "outputs": []
    },
    {
      "cell_type": "code",
      "source": [
        " x = [0, 1, 2, 3, 4, 5, 6, 7, 8, 9]\n",
        " for i in range(10):\n",
        "   if i%2==0:\n",
        "     x[i]=x[8-i]\n",
        "print(x)\n"
      ],
      "metadata": {
        "colab": {
          "base_uri": "https://localhost:8080/"
        },
        "id": "yAdisp5jircz",
        "outputId": "eefd1231-fc9b-4192-96cf-65284db70576"
      },
      "execution_count": null,
      "outputs": [
        {
          "output_type": "stream",
          "name": "stdout",
          "text": [
            "[8, 1, 6, 3, 4, 5, 6, 7, 8, 9]\n"
          ]
        }
      ]
    },
    {
      "cell_type": "code",
      "source": [
        "4.1. Теоретический материал - Библиотеки\n",
        "Машинное обучение опирается на фундаментальные понятия и законы математики и информатики.\n",
        " Библиотека математических функций (math) применяется при решении большинства прикладных задач анализа данных.\n",
        "  Также, и некоторые другие библиотеки Python содержат математические функции (например, NumPy). \n",
        "  Важную роль играет библиотека matplotlib, которая позволяет производить визуализацию расчетов в удобной для восприятия человеком форме: графики, диаграммы, гистограммы.\n",
        "Подключение библиотек – синтаксис: \n",
        "import math as m\n",
        "import numpy as np\n",
        "import matplotlib.pyplot as plt\n",
        "etc…\n",
        "Библиотеки в python содержат не только функции, позволяющие решать различные задачи, но и некоторые популярные константы, например число Эйлера.\n",
        "4.2.1 Пример\n",
        "Задача:\n",
        "\tРассчитать синус от е радиан и вывести результат на экран\n",
        "Решение:\n"
      ],
      "metadata": {
        "id": "hsgp-SKzu-9T"
      },
      "execution_count": null,
      "outputs": []
    },
    {
      "cell_type": "code",
      "source": [
        "import math as m\n",
        "print(m.sin((m.e)))"
      ],
      "metadata": {
        "colab": {
          "base_uri": "https://localhost:8080/"
        },
        "id": "T5X-nc5wQTLT",
        "outputId": "495ae388-c8f3-413b-e62e-02d5eac12aa2"
      },
      "execution_count": null,
      "outputs": [
        {
          "output_type": "stream",
          "name": "stdout",
          "text": [
            "0.41078129050290885\n"
          ]
        }
      ]
    },
    {
      "cell_type": "code",
      "source": [
        "\tДля функции sin⁡(xe^cos⁡(x)) на интервале [0;10] с шагом 0,05 построить график функции, закрасить площадь под ним и вычислить значение этой площади.\n",
        "Для вычисления площади воспользуйтесь функцией trapz(), вычисляющей интеграл по правилу трапеции. Для ее корректной работы необходимо подключить следующие библиотеки:\n",
        "from scipy.integrate import simps\n",
        "from numpy import trapz\n",
        "Решение:\n"
      ],
      "metadata": {
        "id": "a12ys94Qu_By"
      },
      "execution_count": null,
      "outputs": []
    },
    {
      "cell_type": "code",
      "source": [
        "import numpy as np\n",
        "import matplotlib.pyplot as plt\n",
        "from scipy.integrate import simps\n",
        "from numpy import trapz\n",
        "x=np.arange(0.0,10,0.05)\n",
        "y=np.abs(np.sin(x*np.exp(np.cos(x))))\n",
        "plt.grid()\n",
        "plt.plot(x,y,c='r')\n",
        "plt.fill_between(x,y)"
      ],
      "metadata": {
        "id": "oaUAO7ioorGw",
        "colab": {
          "base_uri": "https://localhost:8080/",
          "height": 282
        },
        "outputId": "52efe3e5-34cd-45d2-dbb8-a3b02b4d2057"
      },
      "execution_count": null,
      "outputs": [
        {
          "output_type": "execute_result",
          "data": {
            "text/plain": [
              "<matplotlib.collections.PolyCollection at 0x7fc4c3164790>"
            ]
          },
          "metadata": {},
          "execution_count": 5
        },
        {
          "output_type": "display_data",
          "data": {
            "text/plain": [
              "<Figure size 432x288 with 1 Axes>"
            ],
            "image/png": "[encoded data removed]"
          },
          "metadata": {
            "needs_background": "light"
          }
        }
      ]
    },
    {
      "cell_type": "code",
      "source": [
        "Дано некоторое распределение оценок в группе за экзамен. Нарисовать круговую и точечную диаграммы распределения. "
      ],
      "metadata": {
        "id": "UK8qNZfmbGkj"
      },
      "execution_count": null,
      "outputs": []
    },
    {
      "cell_type": "code",
      "source": [
        "import numpy as np\n",
        "import matplotlib.pyplot as plt\n",
        "marks=['Неуд','Удв','Хорошо','Отлично']\n",
        "data=[3,7,8,4]\n",
        "fig=plt.figure(figsize=(10,7))\n",
        "plt.pie(data,labels=marks)\n",
        "plt.show()\n",
        "plt.grid()\n",
        "plt.scatter(marks,data)\n"
      ],
      "metadata": {
        "colab": {
          "base_uri": "https://localhost:8080/",
          "height": 676
        },
        "id": "0dpXWAD2bGsS",
        "outputId": "57dba754-f983-4a46-93c8-28a01c1bca94"
      },
      "execution_count": null,
      "outputs": [
        {
          "output_type": "display_data",
          "data": {
            "text/plain": [
              "<Figure size 720x504 with 1 Axes>"
            ],
            "image/png": "[encoded data removed]"
          },
          "metadata": {}
        },
        {
          "output_type": "execute_result",
          "data": {
            "text/plain": [
              "<matplotlib.collections.PathCollection at 0x7fc4bbd69390>"
            ]
          },
          "metadata": {},
          "execution_count": 6
        },
        {
          "output_type": "display_data",
          "data": {
            "text/plain": [
              "<Figure size 432x288 with 1 Axes>"
            ],
            "image/png": "[encoded data removed]"
          },
          "metadata": {
            "needs_background": "light"
          }
        }
      ]
    },
    {
      "cell_type": "code",
      "source": [
        "4.3.1 Задание\n",
        "Задача:\n",
        "\tЗадайте массив случайных значений из интервала (0; 1). \n",
        "Рассчитайте средние и медианные значения для массива, сравните результаты, какие выводы можно сделать о значениях? \n",
        "Постройте точечную диаграмму рассеяния полученного ряда.\n"
      ],
      "metadata": {
        "id": "6_0tWjJabGvj"
      },
      "execution_count": null,
      "outputs": []
    },
    {
      "cell_type": "code",
      "source": [
        "import numpy as np\n",
        "import matplotlib.pyplot as plt\n",
        "from scipy.integrate import simps\n",
        "from numpy import trapz\n",
        "x=np.arange(0.0,1.0,0.1)\n",
        "y=np.arange(0.0,1.0,0.1)\n",
        "print('Mediana=',np.median(x),'Srednee=',np.mean(x))\n",
        "plt.scatter(x,y)"
      ],
      "metadata": {
        "colab": {
          "base_uri": "https://localhost:8080/",
          "height": 300
        },
        "id": "bCApwPbncYa-",
        "outputId": "7a310040-8391-4ddb-9594-40adf430b398"
      },
      "execution_count": null,
      "outputs": [
        {
          "output_type": "stream",
          "name": "stdout",
          "text": [
            "Mediana= 0.45 Srednee= 0.45000000000000007\n"
          ]
        },
        {
          "output_type": "execute_result",
          "data": {
            "text/plain": [
              "<matplotlib.collections.PathCollection at 0x7f86b1dee3d0>"
            ]
          },
          "metadata": {},
          "execution_count": 1
        },
        {
          "output_type": "display_data",
          "data": {
            "text/plain": [
              "<Figure size 432x288 with 1 Axes>"
            ],
            "image/png": "[encoded data removed]"
          },
          "metadata": {
            "needs_background": "light"
          }
        }
      ]
    },
    {
      "cell_type": "code",
      "source": [
        "\n",
        "Дана функция   Создать массив из 10 значений функции (x, например, изменяется от 1 до 10).\n",
        " Выделить срез первой половины массива и построить графики для основного массива, используя plt.plot(), для среза – точечный (plt.scatter()).\n",
        " Решение"
      ],
      "metadata": {
        "id": "bKHPYG3nevHw"
      },
      "execution_count": null,
      "outputs": []
    },
    {
      "cell_type": "code",
      "source": [
        "import numpy as np\n",
        "import matplotlib.pyplot as plt\n",
        "from scipy.integrate import simps\n",
        "from numpy import trapz\n",
        "from numpy import log as ln\n",
        "x=np.arange(1,10,1)\n",
        "y=np.abs(np.sin(x*np.exp(np.cos(x))))\n",
        "plt.show()\n",
        "plt.grid()\n",
        "plt.plot(x,y,c='r')\n",
        "plt.scatter(x[:6],y[:6])\n"
      ],
      "metadata": {
        "colab": {
          "base_uri": "https://localhost:8080/",
          "height": 282
        },
        "id": "emzhsYqnfBy5",
        "outputId": "f0ca2aa4-87be-4aed-920b-80225121affd"
      },
      "execution_count": null,
      "outputs": [
        {
          "output_type": "execute_result",
          "data": {
            "text/plain": [
              "<matplotlib.collections.PathCollection at 0x7fc4bb1e7a50>"
            ]
          },
          "metadata": {},
          "execution_count": 57
        },
        {
          "output_type": "display_data",
          "data": {
            "text/plain": [
              "<Figure size 432x288 with 1 Axes>"
            ],
            "image/png": "[encoded data removed]"
          },
          "metadata": {
            "needs_background": "light"
          }
        }
      ]
    },
    {
      "cell_type": "code",
      "source": [
        "4.3.3 Задание\n",
        "1.\tЗадача:\n",
        "\t\tДана функция |cos⁡(xe^((cos⁡(x)+ln⁡(x+1) ) ) ) | Построить график на интервале (0, 10) с шагом 1 с заливкой площади и найти эту площадь под ним. Для вычисления площади воспользуйтесь функцией trapz(), вычисляющей интеграл по правилу трапеции.\n",
        "Для ее корректной работы необходимо подключить следующие библиотеки:\n",
        "from scipy.integrate import simps\n",
        "from numpy import trapz\n",
        "\tРешение:\n",
        "\n"
      ],
      "metadata": {
        "id": "n5xGZnwImPir"
      },
      "execution_count": null,
      "outputs": []
    },
    {
      "cell_type": "code",
      "source": [
        "import numpy as np\n",
        "import matplotlib.pyplot as plt\n",
        "from scipy.integrate import simps\n",
        "from numpy import trapz\n",
        "x=np.arange(1,10,1)\n",
        "y=np.abs(np.cos(x*np.exp(np.cos(x)+np.log(x+1))))\n",
        "plt.grid()\n",
        "plt.plot(x,y,c='r')\n",
        "plt.fill_between(x,y)\n",
        "area=trapz(y)\n",
        "print(area)\n",
        "\n"
      ],
      "metadata": {
        "id": "2VWi2kE9fB6Z",
        "colab": {
          "base_uri": "https://localhost:8080/",
          "height": 283
        },
        "outputId": "e459cbff-4c2a-482f-be0f-4b84faa7de88"
      },
      "execution_count": null,
      "outputs": [
        {
          "output_type": "stream",
          "name": "stdout",
          "text": [
            "5.281433013197276\n"
          ]
        },
        {
          "output_type": "display_data",
          "data": {
            "text/plain": [
              "<Figure size 432x288 with 1 Axes>"
            ],
            "image/png": "[encoded data removed]"
          },
          "metadata": {
            "needs_background": "light"
          }
        }
      ]
    },
    {
      "cell_type": "code",
      "source": [
        "\n",
        "Откройте статистические данные по стоимости акций Apple,\n",
        "Microsoft, Google за 12 месяцев 2021 г. Постройте 3 графика на\n",
        "плоскости и оцените их динамику. Подумайте, как можно улучшить\n",
        "визуализацию результатов.\n",
        "Для начальных данных допустимо использовать следующий ресурс:\n",
        "https://finance.yahoo.com"
      ],
      "metadata": {
        "id": "_Q0tUl5x9ksK"
      },
      "execution_count": null,
      "outputs": []
    },
    {
      "cell_type": "code",
      "source": [
        "import numpy as np\n",
        "import matplotlib.pyplot as plt\n",
        "from scipy.integrate import simps\n",
        "from numpy import trapz\n",
        "x=np.arange(139,179,1)\n",
        "y=np.abs(np.sin(x)*np.exp(np.cos(x)))\n",
        "plt.grid()\n",
        "plt.plot(x,y)\n",
        "plt.scatter(x,y)"
      ],
      "metadata": {
        "colab": {
          "base_uri": "https://localhost:8080/",
          "height": 282
        },
        "id": "b6SO5zRC9k1n",
        "outputId": "c5942ffb-5fe9-46f4-aaed-8d9278bfeb77"
      },
      "execution_count": null,
      "outputs": [
        {
          "output_type": "execute_result",
          "data": {
            "text/plain": [
              "<matplotlib.collections.PathCollection at 0x7fd5d68e06d0>"
            ]
          },
          "metadata": {},
          "execution_count": 29
        },
        {
          "output_type": "display_data",
          "data": {
            "text/plain": [
              "<Figure size 432x288 with 1 Axes>"
            ],
            "image/png": "[encoded data removed]"
          },
          "metadata": {
            "needs_background": "light"
          }
        }
      ]
    },
    {
      "cell_type": "code",
      "source": [
        "Калькулятор Питон "
      ],
      "metadata": {
        "id": "PHXprt93IpwG"
      },
      "execution_count": null,
      "outputs": []
    },
    {
      "cell_type": "code",
      "source": [
        "q1 = int(input('Введите число 1: '))\n",
        "q2 = int(input('Введите число 2: '))\n",
        "\n",
        "v = int (input('Какую операцию вы хотите выполнить? \\n 1 Сложение \\n 2 Вычитание \\n 3 Деление \\n 4 Умножение \\n'))\n",
        "\n",
        "if v == 1:\n",
        "    r = q1 + q2\n",
        "    p = 'сложения'\n",
        "    t = p\n",
        "if v == 2:\n",
        "    r = q1 - q2\n",
        "    l = 'вычитания'\n",
        "    t = l\n",
        "if v == 3:\n",
        "    r = float(q1 / q2)\n",
        "    m = 'деления'\n",
        "    t = m\n",
        "if v == 4:\n",
        "    r = q1 * q2\n",
        "    n = 'умножения'\n",
        "    t = n\n",
        "print ('Результат ',t,' = ',r)"
      ],
      "metadata": {
        "id": "1QkO5MI0Ip7V",
        "colab": {
          "base_uri": "https://localhost:8080/"
        },
        "outputId": "4cd311b5-1159-4c17-bf9c-6dd4ab264549"
      },
      "execution_count": null,
      "outputs": [
        {
          "output_type": "stream",
          "name": "stdout",
          "text": [
            "Введите число 1: 5\n",
            "Введите число 2: 10\n",
            "Какую операцию вы хотите выполнить? \n",
            " 1 Сложение \n",
            " 2 Вычитание \n",
            " 3 Деление \n",
            " 4 Умножение \n",
            "1\n",
            "Результат  сложения  =  15\n"
          ]
        }
      ]
    }
  ]
}