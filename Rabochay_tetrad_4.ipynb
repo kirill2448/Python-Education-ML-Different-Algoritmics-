{
  "nbformat": 4,
  "nbformat_minor": 0,
  "metadata": {
    "colab": {
      "provenance": []
    },
    "kernelspec": {
      "name": "python3",
      "display_name": "Python 3"
    },
    "language_info": {
      "name": "python"
    }
  },
  "cells": [
    {
      "cell_type": "markdown",
      "source": [
        "Дисциплина «Машинное обучение \n",
        "в прикладных задачах анализа данных»\n",
        "Рабочая тетрадь № 4\n",
        "Регрессия – это зависимость среднего значения какой-либо величины \n",
        "от некоторой другой величины или от нескольких других величин. В \n",
        "отличие от чисто функциональной зависимости 𝑦 = 𝑓(𝑥), когда каждому \n",
        "значению независимой переменной 𝑥𝑥 соответствует одно определённое \n",
        "значение зависимой переменной у, при регрессионной связи одному и тому \n",
        "же значению независимой переменной (фактору) 𝑥𝑥 могут соответствовать в \n",
        "зависимости от конкретного случая различные значения зависимой \n",
        "переменной (отклика) у.\n",
        "Изучение регрессии основано на том, что случайные величины Х и 𝑌\n",
        "связаны между собой вероятностной зависимостью: при каждом \n",
        "конкретном значении 𝑋𝑋 = 𝑥𝑥 величина 𝑌𝑌 является случайной величиной с \n",
        "вполне определённым распределением вероятностей. Зависимость \n",
        "зависимой переменной – отклика от одной независимой переменной –\n",
        "фактора или нескольких факторов называется уравнением регрессии. По \n",
        "количеству факторов выделяют парную (однофакторную) и \n",
        "множественную (многофакторную) регрессию. Для парной будем \n",
        "рассматривать следующие методы регрессии: линейную, показательную, \n",
        "экспоненциальную, гиперболическую и параболическую.\n",
        "Регрессионный анализ – это раздел математической статистики, \n",
        "изучающий регрессионную зависимость между случайными величинами по \n",
        "статистическим данным. Цель регрессионного анализа состоит в \n",
        "определении общего вида уравнения регрессии, вычислении оценок \n",
        "неизвестных параметров, входящих в уравнение регрессии проверке \n",
        "статистических гипотез о регрессионной связи.\n",
        "Таким образом, регрессионный анализ – набор статистических \n",
        "методов исследования влияния одной или нескольких независимых \n",
        "переменных 𝑋𝑋1, … , 𝑋𝑋𝑛𝑛 на зависимую переменную 𝑌𝑌. Независимые \n",
        "переменные иначе называют регрессорами или предикторами, а зависимые \n",
        "переменные – критериальными переменными.\n",
        "1.1. Теоретический материал – Линейные регрессионные модели\n",
        "Линейная регрессия\n",
        "Линейная регрессия (Linear regression) – модель зависимости переменной \n",
        "x от одной или нескольких других переменных (факторов, регрессоров, \n",
        "независимых переменных) с линейной функцией зависимости. Линейная \n",
        "регрессия относится к задаче определения «линии наилучшего соответствия» \n",
        "через набор точек данных и стала простым предшественником нелинейных \n",
        "методов, которые используют для обучения нейронных сетей.\n",
        "Цель линейной регрессии — поиск линии, которая наилучшим образом \n",
        "соответствует этим точкам. Напомним, что общее уравнение для прямой есть \n",
        "𝑓𝑓 (𝑥𝑥) = 𝑏𝑏 + 𝑚𝑚 ⋅ 𝑥𝑥 +, где 𝑚𝑚 – наклон линии, а 𝑏𝑏 – его сдвиг.\n",
        "Функция потерь — метод наименьших квадратов\n",
        "Функция потерь – это мера количества ошибок, которые наша линейная \n",
        "регрессия делает на наборе данных. Хотя есть разные функции потерь, все они \n",
        "вычисляют расстояние между предсказанным значением 𝑦𝑦(х) и его \n",
        "фактическим значением.\n",
        "Одна очень распространенная функция потерь называется средней \n",
        "квадратичной ошибкой MSE. Чтобы вычислить MSE, мы просто берем все \n",
        "значения ошибок, считаем их квадраты длин и усредняем.\n",
        "Задача экраполяции\n",
        "Допустим у нас есть много экспериментальных точек. Необходимо через \n",
        "них провести кривую, которая как можно ближе проходила к этим точкам. При \n",
        "этом необходимо минимизировать среднюю квадратичную ошибку (MSE).\n",
        "Для решения данной задачи в Python есть множество библиотек. Самыми \n",
        "распостраненными выступают:\n",
        "numpy - numpy.linalg.lstsq\n",
        "scipy - scipy.linalg (содержит все функции из numpy.linalg плюс часть \n",
        "новых функций, которых нет в numpy.linalg).\n",
        "\n",
        "\n",
        "\n",
        "\n",
        "1.1.1 Пример\n",
        "Задача:\n",
        "Проведем прямую 𝑦𝑦 = 𝑚𝑚𝑚𝑚 + 𝑏𝑏 через экспериментальные точки.\n",
        "\n",
        "Решение\n"
      ],
      "metadata": {
        "id": "cZ6dthfiJ5GA"
      }
    },
    {
      "cell_type": "code",
      "source": [
        "import numpy as np\n",
        "x=np.array([0,1,2,3])\n",
        "y=np.array([-1,0.2,0.9,2.1])\n",
        "A=np.vstack([x,np.ones(len(x))]).T\n",
        "print(A)\n",
        "#Используем метод lstsq для решения уравнения относительно вектора p\n",
        "m,c=np.linalg.lstsq(A,y,rcond=None)[0]\n",
        "print(m,c)\n"
      ],
      "metadata": {
        "colab": {
          "base_uri": "https://localhost:8080/"
        },
        "id": "DndRD72BLl0-",
        "outputId": "09f55275-ac9b-4cee-b8fe-4620e1d6412d"
      },
      "execution_count": null,
      "outputs": [
        {
          "output_type": "stream",
          "name": "stdout",
          "text": [
            "[[0. 1.]\n",
            " [1. 1.]\n",
            " [2. 1.]\n",
            " [3. 1.]]\n",
            "0.9999999999999999 -0.9499999999999997\n"
          ]
        }
      ]
    },
    {
      "cell_type": "code",
      "source": [
        "#Далее строим график прямой и укажем точки на нем\n",
        "import matplotlib.pyplot as plt\n",
        "plt.plot(x,y,'o',label='Исходные данные',markersize=10)\n",
        "plt.plot(x,m*x+c,'r',label='Линейная экстраполяция')\n",
        "plt.legend()\n",
        "plt.show()"
      ],
      "metadata": {
        "colab": {
          "base_uri": "https://localhost:8080/",
          "height": 265
        },
        "id": "8gzDMZWUEBS6",
        "outputId": "c18b7a60-b86e-4d2d-a1e7-c31e70235b75"
      },
      "execution_count": null,
      "outputs": [
        {
          "output_type": "display_data",
          "data": {
            "text/plain": [
              "<Figure size 432x288 with 1 Axes>"
            ],
            "image/png": "[encoded data removed]"
          },
          "metadata": {
            "needs_background": "light"
          }
        }
      ]
    },
    {
      "cell_type": "markdown",
      "source": [
        "1.1.2 Пример\n",
        "Задача:\n",
        "Пусть 𝑥, 𝑦 – вектора длиной 𝑛 > 3 (точек > 3). Задача заключается в \n",
        "построении эстраполяционного полинома второго порядка (параболы). Таким \n",
        "образом, необходимо найти такие коэффициенты полинома 𝑎, 𝑏, 𝑐 по методу \n",
        "наименьших квадратов. Данные мтогут быть получены в результате \n",
        "измерений. Покажем пример генерации данных случайным образом и \n",
        "загрузки их из файла.\n",
        "\n",
        "Решение"
      ],
      "metadata": {
        "id": "rfEIVmEnFilb"
      }
    },
    {
      "cell_type": "code",
      "source": [
        "from numpy import * \n",
        "from numpy.random import *\n",
        "#Генерируем случайные X и Y\n",
        "delta=1.0\n",
        "x=linspace(-5,5,11)\n",
        "y=x**2+delta*(rand(11)-0.5)\n",
        "print(x)\n",
        "print(y)\n",
        "x=x+delta*(rand(11)-0.5)\n",
        "print(x)\n",
        "#Записывам данные в файл \n",
        "x.tofile('x_data.txt','\\n')\n",
        "y.tofile('y_data.txt','\\n')\n",
        "#Читаем данные из файла\n",
        "print('-----------------------------------------------------------------------------------')\n",
        "x=fromfile('x_data.txt',float,sep='\\n')\n",
        "y=fromfile('y_data.txt',float,sep='\\n')\n",
        "print(x)\n",
        "print(y)\n",
        "#Нахождение коэффициентов функции вида y = ax^2+bx+c методом наименьших квадратов \n",
        "#Задаем вектор m=[x**2,x,E]\n",
        "print('-----------------------------------------------------------------------------------')\n",
        "m=vstack((x**2,x,ones(11))).T\n",
        "print('Vector m =',m)\n",
        "#Находим коэффициенты при составляющих вектора m\n",
        "s=np.linalg.lstsq(m,y,rcond=None)[0]\n",
        "print('Vector s =',s)\n",
        "\n",
        "#На отрезке [-5,5]\n",
        "x_prec=linspace(-5,5,101)\n",
        "#Рисуем точки \n",
        "plt.plot(x,y,'D')\n",
        "#Рисуем кривую вида y = ax^2+bx+c подставляя из решения коэффициента  s[0],s[1].s[2]\n",
        "plt.plot(x_prec,s[0]*x_prec**2+s[1]*x_prec+s[2],'-',lw=2)\n",
        "plt.grid()\n",
        "plt.savefig('парабола.png')"
      ],
      "metadata": {
        "colab": {
          "base_uri": "https://localhost:8080/",
          "height": 664
        },
        "id": "zmeTIRENFl38",
        "outputId": "6df9cb36-6518-4426-ec8c-4c6dd359ee4d"
      },
      "execution_count": null,
      "outputs": [
        {
          "output_type": "stream",
          "name": "stdout",
          "text": [
            "[-5. -4. -3. -2. -1.  0.  1.  2.  3.  4.  5.]\n",
            "[24.68593152 15.61393834  9.37507332  3.63832724  1.45229347  0.34408812\n",
            "  1.33323326  3.80916707  9.09828024 15.86132667 24.66548001]\n",
            "[-5.3287462  -4.1088675  -2.68830668 -1.6099783  -1.23406599 -0.43184355\n",
            "  1.45580327  2.15430055  2.65869071  3.835941    4.59313472]\n",
            "-----------------------------------------------------------------------------------\n",
            "[-5.3287462  -4.1088675  -2.68830668 -1.6099783  -1.23406599 -0.43184355\n",
            "  1.45580327  2.15430055  2.65869071  3.835941    4.59313472]\n",
            "[24.68593152 15.61393834  9.37507332  3.63832724  1.45229347  0.34408812\n",
            "  1.33323326  3.80916707  9.09828024 15.86132667 24.66548001]\n",
            "-----------------------------------------------------------------------------------\n",
            "Vector m = [[28.39553612 -5.3287462   1.        ]\n",
            " [16.8827921  -4.1088675   1.        ]\n",
            " [ 7.22699278 -2.68830668  1.        ]\n",
            " [ 2.59203013 -1.6099783   1.        ]\n",
            " [ 1.52291886 -1.23406599  1.        ]\n",
            " [ 0.18648885 -0.43184355  1.        ]\n",
            " [ 2.11936317  1.45580327  1.        ]\n",
            " [ 4.64101085  2.15430055  1.        ]\n",
            " [ 7.06863629  2.65869071  1.        ]\n",
            " [14.71444336  3.835941    1.        ]\n",
            " [21.09688658  4.59313472  1.        ]]\n",
            "Vector s = [0.97607701 0.37324216 0.5672102 ]\n"
          ]
        },
        {
          "output_type": "display_data",
          "data": {
            "text/plain": [
              "<Figure size 432x288 with 1 Axes>"
            ],
            "image/png": "[encoded data removed]"
          },
          "metadata": {
            "needs_background": "light"
          }
        }
      ]
    },
    {
      "cell_type": "markdown",
      "source": [
        "1.1.3 Пример\n",
        "Задача:\n",
        "По данным предыдущего примера постройте эстраполяционного полинома \n",
        "третьего порядка\n",
        "\n",
        "\n",
        "Решение:\n",
        "\n"
      ],
      "metadata": {
        "id": "vnsD7eg5dDY9"
      }
    },
    {
      "cell_type": "code",
      "source": [
        "#Нахождение коэффициентов функции вида y = ax^3+bx^2+cx+d методом наименьших квадратов \n",
        "#Задаем вектор m=[x**3,x,E]\n",
        "print('-----------------------------------------------------------------------------------')\n",
        "m=vstack((x**3,x**2,x,ones(11))).T\n",
        "print('Vector m =',m)\n",
        "#Находим коэффициенты при составляющих вектора m\n",
        "s=np.linalg.lstsq(m,y,rcond=None)[0]\n",
        "print('Vector s =',s)\n",
        "\n",
        "#На отрезке [-5,5]\n",
        "x_prec=linspace(-5,5,101)\n",
        "#Рисуем точки \n",
        "plt.plot(x,y,'D')\n",
        "#Рисуем кривую вида y = ax^3+bx^2+cx+d подставляя из решения коэффициента  s[0],s[1].s[2]\n",
        "plt.plot(x_prec,s[0]*x_prec**3+s[1]*x_prec**2+s[2]*x_prec+s[3],'-',lw=3)\n",
        "plt.grid()\n",
        "plt.savefig('полином-3й_степени.png')"
      ],
      "metadata": {
        "colab": {
          "base_uri": "https://localhost:8080/",
          "height": 491
        },
        "id": "sMV4cj_cdJTr",
        "outputId": "478a0ee4-19da-475a-86ed-8cac598d9202"
      },
      "execution_count": null,
      "outputs": [
        {
          "output_type": "stream",
          "name": "stdout",
          "text": [
            "-----------------------------------------------------------------------------------\n",
            "Vector m = [[-1.51312605e+02  2.83955361e+01 -5.32874620e+00  1.00000000e+00]\n",
            " [-6.93691557e+01  1.68827921e+01 -4.10886750e+00  1.00000000e+00]\n",
            " [-1.94283729e+01  7.22699278e+00 -2.68830668e+00  1.00000000e+00]\n",
            " [-4.17311227e+00  2.59203013e+00 -1.60997830e+00  1.00000000e+00]\n",
            " [-1.87938236e+00  1.52291886e+00 -1.23406599e+00  1.00000000e+00]\n",
            " [-8.05340069e-02  1.86488850e-01 -4.31843549e-01  1.00000000e+00]\n",
            " [ 3.08537584e+00  2.11936317e+00  1.45580327e+00  1.00000000e+00]\n",
            " [ 9.99813223e+00  4.64101085e+00  2.15430055e+00  1.00000000e+00]\n",
            " [ 1.87933176e+01  7.06863629e+00  2.65869071e+00  1.00000000e+00]\n",
            " [ 5.64437366e+01  1.47144434e+01  3.83594100e+00  1.00000000e+00]\n",
            " [ 9.69008423e+01  2.10968866e+01  4.59313472e+00  1.00000000e+00]]\n",
            "Vector s = [ 0.05034303  1.03713255 -0.48814496  0.20052587]\n"
          ]
        },
        {
          "output_type": "display_data",
          "data": {
            "text/plain": [
              "<Figure size 432x288 with 1 Axes>"
            ],
            "image/png": "[encoded data removed]"
          },
          "metadata": {
            "needs_background": "light"
          }
        }
      ]
    },
    {
      "cell_type": "markdown",
      "source": [
        "1.1.4 Пример\n",
        "Задача:\n",
        "Необходимо проверить гипотезу, что наши точечно заданная функция ложится \n",
        "на кривую вида 𝑓(𝑥, 𝑏) = 𝑏0 + 𝑏1𝑒xp(−𝑏2𝑥2)\n",
        "\n",
        "Решение:"
      ],
      "metadata": {
        "id": "u6Dtu1WQfiv7"
      }
    },
    {
      "cell_type": "code",
      "source": [
        "#Добавим шума в данные, сделанные по функции f(x,b) c коэффициентами b = (0.25,0.75,0.5)\n",
        "beta = (0.25,0.75,0.5)\n",
        "def f(x,b0,b1,b2):\n",
        "  return b0+b1*np.exp(-b2*x**2)\n",
        "#Заданим массив точек xi \n",
        "xdata=linspace(0,5,50)\n",
        "print('xdata =',xdata)\n",
        "print('----------------------------------------')\n",
        "y=f(xdata,*beta)\n",
        "print('y=',y)\n",
        "#Зашумляем данные\n",
        "ydata=y+0.05*np.random.randn(len(xdata))\n",
        "#Используем функцию для получения решения в виде коэффициентов функции f(x) для указанных xdata ydata \n"
      ],
      "metadata": {
        "colab": {
          "base_uri": "https://localhost:8080/"
        },
        "id": "CskD5lAVgExd",
        "outputId": "0df6f7c8-4bc2-4e08-8131-1936b7c922f1"
      },
      "execution_count": null,
      "outputs": [
        {
          "output_type": "stream",
          "name": "stdout",
          "text": [
            "xdata = [0.         0.10204082 0.20408163 0.30612245 0.40816327 0.51020408\n",
            " 0.6122449  0.71428571 0.81632653 0.91836735 1.02040816 1.12244898\n",
            " 1.2244898  1.32653061 1.42857143 1.53061224 1.63265306 1.73469388\n",
            " 1.83673469 1.93877551 2.04081633 2.14285714 2.24489796 2.34693878\n",
            " 2.44897959 2.55102041 2.65306122 2.75510204 2.85714286 2.95918367\n",
            " 3.06122449 3.16326531 3.26530612 3.36734694 3.46938776 3.57142857\n",
            " 3.67346939 3.7755102  3.87755102 3.97959184 4.08163265 4.18367347\n",
            " 4.28571429 4.3877551  4.48979592 4.59183673 4.69387755 4.79591837\n",
            " 4.89795918 5.        ]\n",
            "----------------------------------------\n",
            "y= [1.         0.99610552 0.98454301 0.96566897 0.94005726 0.90847009\n",
            " 0.8718204  0.83112807 0.7874731  0.74194844 0.69561564 0.64946548\n",
            " 0.6043856  0.56113642 0.52033584 0.48245259 0.44780767 0.41658268\n",
            " 0.38883359 0.36450838 0.34346692 0.32550167 0.31035778 0.29775159\n",
            " 0.28738699 0.27896884 0.27221363 0.26685723 0.26265991 0.25940921\n",
            " 0.25692076 0.2550377  0.25362901 0.25258716 0.25182531 0.25127446\n",
            " 0.25088063 0.2506022  0.25040754 0.25027294 0.2501809  0.25011866\n",
            " 0.25007703 0.25004948 0.25003146 0.25001979 0.25001232 0.25000759\n",
            " 0.25000463 0.25000279]\n"
          ]
        }
      ]
    },
    {
      "cell_type": "code",
      "source": [
        "import numpy, scipy, matplotlib\n",
        "import matplotlib.pyplot as plt\n",
        "from scipy.optimize import curve_fit\n",
        "beta_opt,beta_cov=scipy.optimize.curve_fit(f,xdata,ydata)\n",
        "beta_opt\n",
        "#Вычислим линейное отклонение \n",
        "lin_dev=sum(beta_cov[0])\n",
        "print(lin_dev)\n",
        "#Вычислим квадратичное отклонение \n",
        "residuals = ydata-f(xdata,*beta_opt)\n",
        "fres=sum(residuals**2)\n",
        "print(fres)\n",
        "\n",
        "fig,ax=plt.subplots()\n",
        "ax.scatter(xdata,ydata)\n",
        "ax.plot(xdata,y,'r',lw=2)\n",
        "ax.plot(xdata,f(xdata,*beta_opt),'b',lw=2)\n",
        "ax.set_xlim(0,5)\n",
        "ax.set_xlabel(r\"$x$\",fontsize=18)\n",
        "ax.set_ylabel(r\"$f(x,\\beta)$\",fontsize=18)"
      ],
      "metadata": {
        "colab": {
          "base_uri": "https://localhost:8080/",
          "height": 339
        },
        "id": "oq55U4gskIYf",
        "outputId": "b366350b-d2d8-4f8f-85a2-c241823f06c0"
      },
      "execution_count": null,
      "outputs": [
        {
          "output_type": "stream",
          "name": "stdout",
          "text": [
            "0.00021531224854767542\n",
            "0.10864060401519147\n"
          ]
        },
        {
          "output_type": "execute_result",
          "data": {
            "text/plain": [
              "Text(0, 0.5, '$f(x,\\\\beta)$')"
            ]
          },
          "metadata": {},
          "execution_count": 14
        },
        {
          "output_type": "display_data",
          "data": {
            "text/plain": [
              "<Figure size 432x288 with 1 Axes>"
            ],
            "image/png": "[encoded data removed]"
          },
          "metadata": {
            "needs_background": "light"
          }
        }
      ]
    },
    {
      "cell_type": "markdown",
      "source": [
        "1.1.5 Пример\n",
        "Задача:\n",
        "Необходимо проверить гипотезу, что наши точечно заданная функция ложится \n",
        "на кривые вида: \n",
        "1) 𝑓(𝑥, 𝑏) = 𝑏0 + 𝑏1𝑥\n",
        "2) 𝑓(𝑥, 𝑏) = 𝑏0 + 𝑏1𝑥 + 𝑏2𝑥2\n",
        "3) 𝑓(𝑥, 𝑏) = 𝑏0 + 𝑏1𝑙(𝑥)\n",
        "4) 𝑓(𝑥, 𝑏) = 𝑏0 𝑥𝑏1"
      ],
      "metadata": {
        "id": "iIZClDVTgmqS"
      }
    },
    {
      "cell_type": "code",
      "source": [
        "#Решение \n",
        "#1\n",
        "#Добавим шума в данные сделаннаые по ункции f(x,b)  с коэффициентами b=(0.25,0.75)\n",
        "beta =(0.25,0.75)\n",
        "def f(x,b0,b1):\n",
        "  return b0+b1*x\n",
        "#Зададим массив точек xi \n",
        "xdata=np.linspace(0,5,50)\n",
        "#Создаем теоретически правильные значения точек yi без шума \n",
        "y=f(xdata,*beta)\n",
        "# Зашумляем эти данные \n",
        "ydata=y+0.05 * np.random.randn(len(xdata))\n",
        "beta_opt,beta_cov=scipy.optimize.curve_fit(f,xdata,ydata)\n",
        "print(beta_opt)\n",
        "#Вычислим линейное отклонение \n",
        "lin_dev=sum(beta_cov[0])\n",
        "print(lin_dev)\n",
        "#Вычислим квадратичное отклонение \n",
        "residuals = ydata-f(xdata,*beta_opt)\n",
        "fres=sum(residuals**2)\n",
        "print(fres)\n",
        "\n",
        "fig,ax=plt.subplots()\n",
        "ax.scatter(xdata,ydata)\n",
        "ax.plot(xdata,y,'r',lw=2)\n",
        "ax.plot(xdata,f(xdata,*beta_opt),'b',lw=2)\n",
        "ax.set_xlim(0,5)\n",
        "ax.set_xlabel(r\"$x$\",fontsize=18)\n",
        "ax.set_ylabel(r\"$f(x,\\beta)$\",fontsize=18)"
      ],
      "metadata": {
        "colab": {
          "base_uri": "https://localhost:8080/",
          "height": 356
        },
        "id": "XzWF5VD5g5Vg",
        "outputId": "8858188f-d5b3-486e-9826-903f4ea59489"
      },
      "execution_count": null,
      "outputs": [
        {
          "output_type": "stream",
          "name": "stdout",
          "text": [
            "[0.28255616 0.74029825]\n",
            "0.00011667929319807605\n",
            "0.10259731042177833\n"
          ]
        },
        {
          "output_type": "execute_result",
          "data": {
            "text/plain": [
              "Text(0, 0.5, '$f(x,\\\\beta)$')"
            ]
          },
          "metadata": {},
          "execution_count": 19
        },
        {
          "output_type": "display_data",
          "data": {
            "text/plain": [
              "<Figure size 432x288 with 1 Axes>"
            ],
            "image/png": "[encoded data removed]"
          },
          "metadata": {
            "needs_background": "light"
          }
        }
      ]
    },
    {
      "cell_type": "code",
      "source": [
        "#Решение номер 2 \n",
        "#Добавим шума в данные сделаннаые по ункции f(x,b)  с коэффициентами b=(0.25,0.75,0.5)\n",
        "beta =(0.25,0.75,0.5)\n",
        "def f(x,b0,b1,b2):\n",
        "  return b0+b1*x+b2*x**2\n",
        "#Зададим массив точек xi \n",
        "xdata=np.linspace(0,5,50)\n",
        "#Создаем теоретически правильные значения точек yi без шума \n",
        "y=f(xdata,*beta)\n",
        "# Зашумляем эти данные \n",
        "ydata=y+0.05 * np.random.randn(len(xdata))\n",
        "beta_opt,beta_cov=scipy.optimize.curve_fit(f,xdata,ydata)\n",
        "print(beta_opt)\n",
        "#Вычислим линейное отклонение \n",
        "lin_dev=sum(beta_cov[0])\n",
        "print(lin_dev)\n",
        "#Вычислим квадратичное отклонение \n",
        "residuals = ydata-f(xdata,*beta_opt)\n",
        "fres=sum(residuals**2)\n",
        "print(fres)\n",
        "\n",
        "fig,ax=plt.subplots()\n",
        "ax.scatter(xdata,ydata)\n",
        "ax.plot(xdata,y,'r',lw=2)\n",
        "ax.plot(xdata,f(xdata,*beta_opt),'b',lw=2)\n",
        "ax.set_xlim(0,5)\n",
        "ax.set_xlabel(r\"$x$\",fontsize=18)\n",
        "ax.set_ylabel(r\"$f(x,\\beta)$\",fontsize=18)"
      ],
      "metadata": {
        "colab": {
          "base_uri": "https://localhost:8080/",
          "height": 356
        },
        "id": "3mOSl9s_iDm6",
        "outputId": "a59b6618-6e08-4478-e84d-ab0c413cc26f"
      },
      "execution_count": null,
      "outputs": [
        {
          "output_type": "stream",
          "name": "stdout",
          "text": [
            "[0.24017398 0.74591424 0.50120275]\n",
            "0.0001293666957370847\n",
            "0.10787828195370894\n"
          ]
        },
        {
          "output_type": "execute_result",
          "data": {
            "text/plain": [
              "Text(0, 0.5, '$f(x,\\\\beta)$')"
            ]
          },
          "metadata": {},
          "execution_count": 20
        },
        {
          "output_type": "display_data",
          "data": {
            "text/plain": [
              "<Figure size 432x288 with 1 Axes>"
            ],
            "image/png": "[encoded data removed]"
          },
          "metadata": {
            "needs_background": "light"
          }
        }
      ]
    },
    {
      "cell_type": "code",
      "source": [
        "#Добавим шума в данные сделаннаые по ункции f(x,b)  с коэффициентами b=(1,2)\n",
        "beta =(1,2)\n",
        "def f(x,b0,b1):\n",
        "  return b0+b1*np.log(x)\n",
        "#Зададим массив точек xi \n",
        "xdata=np.linspace(1,5,50)\n",
        "#Создаем теоретически правильные значения точек yi без шума \n",
        "y=f(xdata,*beta)\n",
        "# Зашумляем эти данные \n",
        "ydata=y+0.05 * np.random.randn(len(xdata))\n",
        "beta_opt,beta_cov=scipy.optimize.curve_fit(f,xdata,ydata)\n",
        "print(beta_opt)\n",
        "#Вычислим линейное отклонение \n",
        "lin_dev=sum(beta_cov[0])\n",
        "print(lin_dev)\n",
        "#Вычислим квадратичное отклонение \n",
        "residuals = ydata-f(xdata,*beta_opt)\n",
        "fres=sum(residuals**2)\n",
        "print(fres)\n",
        "\n",
        "fig,ax=plt.subplots()\n",
        "ax.scatter(xdata,ydata)\n",
        "ax.plot(xdata,y,'r',lw=2)\n",
        "ax.plot(xdata,f(xdata,*beta_opt),'b',lw=2)\n",
        "ax.set_xlim(0,5)\n",
        "ax.set_xlabel(r\"$x$\",fontsize=18)\n",
        "ax.set_ylabel(r\"$f(x,\\beta)$\",fontsize=18)"
      ],
      "metadata": {
        "colab": {
          "base_uri": "https://localhost:8080/",
          "height": 356
        },
        "id": "ow6rRhdJmNbP",
        "outputId": "36ae10a3-1e9e-4604-df27-0b52749d5142"
      },
      "execution_count": null,
      "outputs": [
        {
          "output_type": "stream",
          "name": "stdout",
          "text": [
            "[0.99675713 1.9975914 ]\n",
            "4.5109730787854836e-05\n",
            "0.10431360684942015\n"
          ]
        },
        {
          "output_type": "execute_result",
          "data": {
            "text/plain": [
              "Text(0, 0.5, '$f(x,\\\\beta)$')"
            ]
          },
          "metadata": {},
          "execution_count": 22
        },
        {
          "output_type": "display_data",
          "data": {
            "text/plain": [
              "<Figure size 432x288 with 1 Axes>"
            ],
            "image/png": "[encoded data removed]"
          },
          "metadata": {
            "needs_background": "light"
          }
        }
      ]
    },
    {
      "cell_type": "code",
      "source": [
        "#Решение номер 4 \n",
        "#Добавим шума в данные сделанные по функции f(x,b) с коэффициентами b = (1,2)\n",
        "beta = (1,2)\n",
        "def f(x,b0,b1):\n",
        "  return b0*x**b1\n",
        "#Зададим массив точек xi \n",
        "xdata=np.linspace(1,5,50)\n",
        "#Создаем теоретически правильные значения точек yi без шума \n",
        "y=f(xdata,*beta)\n",
        "# Зашумляем эти данные \n",
        "ydata=y+0.05 * np.random.randn(len(xdata))\n",
        "beta_opt,beta_cov=scipy.optimize.curve_fit(f,xdata,ydata)\n",
        "print(beta_opt)\n",
        "#Вычислим линейное отклонение \n",
        "lin_dev=sum(beta_cov[0])\n",
        "print(lin_dev)\n",
        "#Вычислим квадратичное отклонение \n",
        "residuals = ydata-f(xdata,*beta_opt)\n",
        "fres=sum(residuals**2)\n",
        "print(fres)\n",
        "\n",
        "fig,ax=plt.subplots()\n",
        "ax.scatter(xdata,ydata)\n",
        "ax.plot(xdata,y,'r',lw=2)\n",
        "ax.plot(xdata,f(xdata,*beta_opt),'b',lw=2)\n",
        "ax.set_xlim(0,5)\n",
        "ax.set_xlabel(r\"$x$\",fontsize=18)\n",
        "ax.set_ylabel(r\"$f(x,\\beta)$\",fontsize=18)"
      ],
      "metadata": {
        "colab": {
          "base_uri": "https://localhost:8080/",
          "height": 356
        },
        "id": "ENabo7HMnQ0V",
        "outputId": "7007a7eb-a4b3-4315-ff08-95a5b22544f2"
      },
      "execution_count": null,
      "outputs": [
        {
          "output_type": "stream",
          "name": "stdout",
          "text": [
            "[0.99882611 2.00097102]\n",
            "4.59791881060248e-06\n",
            "0.1098886342901318\n"
          ]
        },
        {
          "output_type": "execute_result",
          "data": {
            "text/plain": [
              "Text(0, 0.5, '$f(x,\\\\beta)$')"
            ]
          },
          "metadata": {},
          "execution_count": 23
        },
        {
          "output_type": "display_data",
          "data": {
            "text/plain": [
              "<Figure size 432x288 with 1 Axes>"
            ],
            "image/png": "[encoded data removed]"
          },
          "metadata": {
            "needs_background": "light"
          }
        }
      ]
    },
    {
      "cell_type": "markdown",
      "source": [
        "1.2. Теоретический материал – Задачи регрессии\n",
        "Линейная регрессия - это широко используемый метод статистического \n",
        "анализа, который использует регрессионный анализ в математической \n",
        "статистике для определения количественной взаимосвязи между двумя или \n",
        "более переменными. Если регрессионный анализ включает две или более \n",
        "независимых переменных, а связь между зависимой и независимой \n",
        "переменными является линейной, тогда имееи дело с множественной линейной \n",
        "регрессией.\n",
        "\n",
        "\n",
        "В этом разделе мы увидим, как библиотеку Scikit-Learn в Python для машинного \n",
        "обучения можно использовать для реализации функций регрессии. Мы начнем \n",
        "с простой линейной регрессии с участием двух переменных, а затем перейдем к \n",
        "линейной регрессии с участием нескольких переменных.\n",
        "1.2.1 Пример\n",
        "\n",
        "Задача:\n",
        "Построим простую линейную регрессию в Python с использованием \n",
        "библиотеки scikit-learn"
      ],
      "metadata": {
        "id": "wEUNwiB7oRaX"
      }
    },
    {
      "cell_type": "code",
      "source": [
        "#Импортируем необходимые библиотеки \n",
        "#Используем пандас и нампай для для обраотки данных \n",
        "# matoillib для визуализации  и sklearn для оьучения наборов данных и импорта моделей \n",
        "import numpy, scipy, matplotlib\n",
        "import matplotlib.pyplot as plt\n",
        "from scipy.optimize import curve_fit\n",
        "import pandas as pd\n",
        "from sklearn.model_selection import  train_test_split\n",
        "from sklearn.linear_model import  LinearRegression\n",
        "#Создадим набор данных для описания взаимосвязи между временем обучения студента и его успеваемостью \n",
        "my_dict = {'Учебное время ': [0.5 , 0.75, 1.  , 1.25, 1.5 , 1.75, 2.  , 2.25, 2.5 , 2.75, 3.  ,\n",
        "       3.25, 3.5 , 3.75, 4.  , 4.25, 4.5 , 4.75, 5.  , 5.25],\n",
        "       'Oценка':[10,22,13,20,40,23,33,50,62,48,55,75,62,73,81,76,64,82,90,93]}\n",
        "      \n",
        "dataset=pd.DataFrame(my_dict)\n",
        "print(dataset.head())\n",
        "print(dataset.shape)\n",
        "dataset.describe()\n",
        "#Нарисуем точечную диограмму \n",
        "plt.scatter (dataset['Учебное время '],dataset['Oценка'],color='b',label='Данные экзамена ')\n",
        "plt.xlabel('Часы')\n",
        "plt.ylabel('Оценка')\n",
        "plt.show()\n"
      ],
      "metadata": {
        "colab": {
          "base_uri": "https://localhost:8080/",
          "height": 400
        },
        "id": "zQvCN140oaLm",
        "outputId": "3166ca78-89fc-4062-9b16-5092d963c7f1"
      },
      "execution_count": null,
      "outputs": [
        {
          "output_type": "stream",
          "name": "stdout",
          "text": [
            "   Учебное время   Oценка\n",
            "0            0.50      10\n",
            "1            0.75      22\n",
            "2            1.00      13\n",
            "3            1.25      20\n",
            "4            1.50      40\n",
            "(20, 2)\n"
          ]
        },
        {
          "output_type": "display_data",
          "data": {
            "text/plain": [
              "<Figure size 432x288 with 1 Axes>"
            ],
            "image/png": "[encoded data removed]"
          },
          "metadata": {
            "needs_background": "light"
          }
        }
      ]
    },
    {
      "cell_type": "markdown",
      "source": [
        "После того как мы получили представление о данных, разделим информацию \n",
        "на «атрибуты» и «метки». Атрибуты – это независимые переменные, а метки \n",
        "– это зависимые переменные, значения которых должны быть предсказаны. В \n",
        "нашем наборе всего два столбца и необходимо предсказать оценку в \n",
        "зависимости от количества часов. Чтобы извлечь атрибуты и метки, \n",
        "выполняем следующий скрипт:"
      ],
      "metadata": {
        "id": "-WB_PxFut2_1"
      }
    },
    {
      "cell_type": "code",
      "source": [
        "X=dataset.iloc[:,:-1].values\n",
        "y=dataset.iloc[:,1].values\n",
        "print('Дата Х= ',X)\n",
        "print('Дата y= ',y)\n",
        "#Теперь имея атрибуты и метки необходимо разделить их на обучающий и тестовый набор\n",
        "#Ниже разбиваем 80 % на обучающий и 20 % на тестовый \n",
        "X_train,X_test,y_train,y_test=train_test_split(X,y,test_size=0.2,random_state=0)\n",
        "#Далее можно обучить алгоритм линейной регресии \n",
        "#Необходимо импортировать класс LinearRegression , создать его экземпляр и вызвать метод fit \n",
        "regressor= LinearRegression()\n",
        "regressor.fit(X_train,y_train)\n",
        "#Приводим получившиеся коэффициены для линии регресии\n",
        "print(regressor.intercept_)\n",
        "print(regressor.coef_)"
      ],
      "metadata": {
        "colab": {
          "base_uri": "https://localhost:8080/"
        },
        "id": "-JVip_cft7ds",
        "outputId": "fe7dfd90-8e2c-4d2a-9ca0-81efcf6764ed"
      },
      "execution_count": null,
      "outputs": [
        {
          "output_type": "stream",
          "name": "stdout",
          "text": [
            "Дата Х=  [[0.5 ]\n",
            " [0.75]\n",
            " [1.  ]\n",
            " [1.25]\n",
            " [1.5 ]\n",
            " [1.75]\n",
            " [2.  ]\n",
            " [2.25]\n",
            " [2.5 ]\n",
            " [2.75]\n",
            " [3.  ]\n",
            " [3.25]\n",
            " [3.5 ]\n",
            " [3.75]\n",
            " [4.  ]\n",
            " [4.25]\n",
            " [4.5 ]\n",
            " [4.75]\n",
            " [5.  ]\n",
            " [5.25]]\n",
            "Дата y=  [10 22 13 20 40 23 33 50 62 48 55 75 62 73 81 76 64 82 90 93]\n",
            "2.161556603773583\n",
            "[17.50943396]\n"
          ]
        }
      ]
    },
    {
      "cell_type": "markdown",
      "source": [
        "Получившийся результат можно интерпретировать следующим образом: с \n",
        "каждым затраченным часом на обучение результат экзамена повышается \n",
        "приблизительно на 17 баллов. Далее можно построить прогнозы. Для этого мы \n",
        "будем использовать наши тестовые данные и посмотрим, насколько точно наш \n",
        "алгоритм предсказывает процентную оценку. \n",
        "\n",
        "Чтобы сделать прогноз на \n",
        "тестовых данных необходимо выполнить следующий код:"
      ],
      "metadata": {
        "id": "2-c5dZjWzNmD"
      }
    },
    {
      "cell_type": "code",
      "source": [
        "y_pred=regressor.predict(X_test)\n",
        "#Сравним фактические значения с прогнозируемыми\n",
        "df=pd.DataFrame({'Actual':y_test,'Predicted':y_pred})\n",
        "df\n",
        "#Визуализируем резуьтат представления в гистограммы \n",
        "df.plot(kind='bar')\n",
        "plt.grid(which='major',linestyle='-',linewidth='0.5',color='green')\n",
        "plt.grid(which='minor',linestyle=':',linewidth='0.5',color='black')\n",
        "plt.scatter(X_test,y_test,color='gray')\n",
        "plt.plot(X_test,y_pred,color='red',linewidth=2)\n",
        "plt.show()"
      ],
      "metadata": {
        "colab": {
          "base_uri": "https://localhost:8080/",
          "height": 262
        },
        "id": "jZtwx5kpzUt5",
        "outputId": "4065be18-b6f6-4ce4-fc0b-62d503059581"
      },
      "execution_count": null,
      "outputs": [
        {
          "output_type": "display_data",
          "data": {
            "text/plain": [
              "<Figure size 432x288 with 1 Axes>"
            ],
            "image/png": "[encoded data removed]"
          },
          "metadata": {
            "needs_background": "light"
          }
        }
      ]
    },
    {
      "cell_type": "markdown",
      "source": [
        "Задание:\n",
        "Постройте модель линейной регрессии для произвольных данных из двух \n",
        "столбцов. Для примера можно взять точечную зависимость заработной платы от \n",
        "опыта работы:\n",
        "(https://raw.githubusercontent.com/AnnaShestova/salary-years-simple-linear\u0002regression/master/Salary_Data.csv). \n",
        "Найдите коэффициенты линии регрессии. Постройте прогноз.\n",
        "\n",
        "Решение"
      ],
      "metadata": {
        "id": "5w4d-31_Xr3G"
      }
    },
    {
      "cell_type": "code",
      "source": [
        "url=('https://raw.githubusercontent.com/AnnaShestova/salary-years-simple-linear-regression/master/Salary_Data.csv')\n",
        "df=pd.read_csv(url)\n",
        "df.head()\n",
        "df"
      ],
      "metadata": {
        "colab": {
          "base_uri": "https://localhost:8080/",
          "height": 990
        },
        "id": "kQ3YMWSYX0Xj",
        "outputId": "eff8a940-55aa-400e-f4df-4bf4e9734842"
      },
      "execution_count": null,
      "outputs": [
        {
          "output_type": "execute_result",
          "data": {
            "text/plain": [
              "    YearsExperience    Salary\n",
              "0               1.1   39343.0\n",
              "1               1.3   46205.0\n",
              "2               1.5   37731.0\n",
              "3               2.0   43525.0\n",
              "4               2.2   39891.0\n",
              "5               2.9   56642.0\n",
              "6               3.0   60150.0\n",
              "7               3.2   54445.0\n",
              "8               3.2   64445.0\n",
              "9               3.7   57189.0\n",
              "10              3.9   63218.0\n",
              "11              4.0   55794.0\n",
              "12              4.0   56957.0\n",
              "13              4.1   57081.0\n",
              "14              4.5   61111.0\n",
              "15              4.9   67938.0\n",
              "16              5.1   66029.0\n",
              "17              5.3   83088.0\n",
              "18              5.9   81363.0\n",
              "19              6.0   93940.0\n",
              "20              6.8   91738.0\n",
              "21              7.1   98273.0\n",
              "22              7.9  101302.0\n",
              "23              8.2  113812.0\n",
              "24              8.7  109431.0\n",
              "25              9.0  105582.0\n",
              "26              9.5  116969.0\n",
              "27              9.6  112635.0\n",
              "28             10.3  122391.0\n",
              "29             10.5  121872.0"
            ],
            "text/html": [
              "\n",
              "  <div id=\"df-3e4036db-bf3b-48d2-9415-378580928c19\">\n",
              "    <div class=\"colab-df-container\">\n",
              "      <div>\n",
              "<style scoped>\n",
              "    .dataframe tbody tr th:only-of-type {\n",
              "        vertical-align: middle;\n",
              "    }\n",
              "\n",
              "    .dataframe tbody tr th {\n",
              "        vertical-align: top;\n",
              "    }\n",
              "\n",
              "    .dataframe thead th {\n",
              "        text-align: right;\n",
              "    }\n",
              "</style>\n",
              "<table border=\"1\" class=\"dataframe\">\n",
              "  <thead>\n",
              "    <tr style=\"text-align: right;\">\n",
              "      <th></th>\n",
              "      <th>YearsExperience</th>\n",
              "      <th>Salary</th>\n",
              "    </tr>\n",
              "  </thead>\n",
              "  <tbody>\n",
              "    <tr>\n",
              "      <th>0</th>\n",
              "      <td>1.1</td>\n",
              "      <td>39343.0</td>\n",
              "    </tr>\n",
              "    <tr>\n",
              "      <th>1</th>\n",
              "      <td>1.3</td>\n",
              "      <td>46205.0</td>\n",
              "    </tr>\n",
              "    <tr>\n",
              "      <th>2</th>\n",
              "      <td>1.5</td>\n",
              "      <td>37731.0</td>\n",
              "    </tr>\n",
              "    <tr>\n",
              "      <th>3</th>\n",
              "      <td>2.0</td>\n",
              "      <td>43525.0</td>\n",
              "    </tr>\n",
              "    <tr>\n",
              "      <th>4</th>\n",
              "      <td>2.2</td>\n",
              "      <td>39891.0</td>\n",
              "    </tr>\n",
              "    <tr>\n",
              "      <th>5</th>\n",
              "      <td>2.9</td>\n",
              "      <td>56642.0</td>\n",
              "    </tr>\n",
              "    <tr>\n",
              "      <th>6</th>\n",
              "      <td>3.0</td>\n",
              "      <td>60150.0</td>\n",
              "    </tr>\n",
              "    <tr>\n",
              "      <th>7</th>\n",
              "      <td>3.2</td>\n",
              "      <td>54445.0</td>\n",
              "    </tr>\n",
              "    <tr>\n",
              "      <th>8</th>\n",
              "      <td>3.2</td>\n",
              "      <td>64445.0</td>\n",
              "    </tr>\n",
              "    <tr>\n",
              "      <th>9</th>\n",
              "      <td>3.7</td>\n",
              "      <td>57189.0</td>\n",
              "    </tr>\n",
              "    <tr>\n",
              "      <th>10</th>\n",
              "      <td>3.9</td>\n",
              "      <td>63218.0</td>\n",
              "    </tr>\n",
              "    <tr>\n",
              "      <th>11</th>\n",
              "      <td>4.0</td>\n",
              "      <td>55794.0</td>\n",
              "    </tr>\n",
              "    <tr>\n",
              "      <th>12</th>\n",
              "      <td>4.0</td>\n",
              "      <td>56957.0</td>\n",
              "    </tr>\n",
              "    <tr>\n",
              "      <th>13</th>\n",
              "      <td>4.1</td>\n",
              "      <td>57081.0</td>\n",
              "    </tr>\n",
              "    <tr>\n",
              "      <th>14</th>\n",
              "      <td>4.5</td>\n",
              "      <td>61111.0</td>\n",
              "    </tr>\n",
              "    <tr>\n",
              "      <th>15</th>\n",
              "      <td>4.9</td>\n",
              "      <td>67938.0</td>\n",
              "    </tr>\n",
              "    <tr>\n",
              "      <th>16</th>\n",
              "      <td>5.1</td>\n",
              "      <td>66029.0</td>\n",
              "    </tr>\n",
              "    <tr>\n",
              "      <th>17</th>\n",
              "      <td>5.3</td>\n",
              "      <td>83088.0</td>\n",
              "    </tr>\n",
              "    <tr>\n",
              "      <th>18</th>\n",
              "      <td>5.9</td>\n",
              "      <td>81363.0</td>\n",
              "    </tr>\n",
              "    <tr>\n",
              "      <th>19</th>\n",
              "      <td>6.0</td>\n",
              "      <td>93940.0</td>\n",
              "    </tr>\n",
              "    <tr>\n",
              "      <th>20</th>\n",
              "      <td>6.8</td>\n",
              "      <td>91738.0</td>\n",
              "    </tr>\n",
              "    <tr>\n",
              "      <th>21</th>\n",
              "      <td>7.1</td>\n",
              "      <td>98273.0</td>\n",
              "    </tr>\n",
              "    <tr>\n",
              "      <th>22</th>\n",
              "      <td>7.9</td>\n",
              "      <td>101302.0</td>\n",
              "    </tr>\n",
              "    <tr>\n",
              "      <th>23</th>\n",
              "      <td>8.2</td>\n",
              "      <td>113812.0</td>\n",
              "    </tr>\n",
              "    <tr>\n",
              "      <th>24</th>\n",
              "      <td>8.7</td>\n",
              "      <td>109431.0</td>\n",
              "    </tr>\n",
              "    <tr>\n",
              "      <th>25</th>\n",
              "      <td>9.0</td>\n",
              "      <td>105582.0</td>\n",
              "    </tr>\n",
              "    <tr>\n",
              "      <th>26</th>\n",
              "      <td>9.5</td>\n",
              "      <td>116969.0</td>\n",
              "    </tr>\n",
              "    <tr>\n",
              "      <th>27</th>\n",
              "      <td>9.6</td>\n",
              "      <td>112635.0</td>\n",
              "    </tr>\n",
              "    <tr>\n",
              "      <th>28</th>\n",
              "      <td>10.3</td>\n",
              "      <td>122391.0</td>\n",
              "    </tr>\n",
              "    <tr>\n",
              "      <th>29</th>\n",
              "      <td>10.5</td>\n",
              "      <td>121872.0</td>\n",
              "    </tr>\n",
              "  </tbody>\n",
              "</table>\n",
              "</div>\n",
              "      <button class=\"colab-df-convert\" onclick=\"convertToInteractive('df-3e4036db-bf3b-48d2-9415-378580928c19')\"\n",
              "              title=\"Convert this dataframe to an interactive table.\"\n",
              "              style=\"display:none;\">\n",
              "        \n",
              "  <svg xmlns=\"http://www.w3.org/2000/svg\" height=\"24px\"viewBox=\"0 0 24 24\"\n",
              "       width=\"24px\">\n",
              "    <path d=\"M0 0h24v24H0V0z\" fill=\"none\"/>\n",
              "    <path d=\"M18.56 5.44l.94 2.06.94-2.06 2.06-.94-2.06-.94-.94-2.06-.94 2.06-2.06.94zm-11 1L8.5 8.5l.94-2.06 2.06-.94-2.06-.94L8.5 2.5l-.94 2.06-2.06.94zm10 10l.94 2.06.94-2.06 2.06-.94-2.06-.94-.94-2.06-.94 2.06-2.06.94z\"/><path d=\"M17.41 7.96l-1.37-1.37c-.4-.4-.92-.59-1.43-.59-.52 0-1.04.2-1.43.59L10.3 9.45l-7.72 7.72c-.78.78-.78 2.05 0 2.83L4 21.41c.39.39.9.59 1.41.59.51 0 1.02-.2 1.41-.59l7.78-7.78 2.81-2.81c.8-.78.8-2.07 0-2.86zM5.41 20L4 18.59l7.72-7.72 1.47 1.35L5.41 20z\"/>\n",
              "  </svg>\n",
              "      </button>\n",
              "      \n",
              "  <style>\n",
              "    .colab-df-container {\n",
              "      display:flex;\n",
              "      flex-wrap:wrap;\n",
              "      gap: 12px;\n",
              "    }\n",
              "\n",
              "    .colab-df-convert {\n",
              "      background-color: #E8F0FE;\n",
              "      border: none;\n",
              "      border-radius: 50%;\n",
              "      cursor: pointer;\n",
              "      display: none;\n",
              "      fill: #1967D2;\n",
              "      height: 32px;\n",
              "      padding: 0 0 0 0;\n",
              "      width: 32px;\n",
              "    }\n",
              "\n",
              "    .colab-df-convert:hover {\n",
              "      background-color: #E2EBFA;\n",
              "      box-shadow: 0px 1px 2px rgba(60, 64, 67, 0.3), 0px 1px 3px 1px rgba(60, 64, 67, 0.15);\n",
              "      fill: #174EA6;\n",
              "    }\n",
              "\n",
              "    [theme=dark] .colab-df-convert {\n",
              "      background-color: #3B4455;\n",
              "      fill: #D2E3FC;\n",
              "    }\n",
              "\n",
              "    [theme=dark] .colab-df-convert:hover {\n",
              "      background-color: #434B5C;\n",
              "      box-shadow: 0px 1px 3px 1px rgba(0, 0, 0, 0.15);\n",
              "      filter: drop-shadow(0px 1px 2px rgba(0, 0, 0, 0.3));\n",
              "      fill: #FFFFFF;\n",
              "    }\n",
              "  </style>\n",
              "\n",
              "      <script>\n",
              "        const buttonEl =\n",
              "          document.querySelector('#df-3e4036db-bf3b-48d2-9415-378580928c19 button.colab-df-convert');\n",
              "        buttonEl.style.display =\n",
              "          google.colab.kernel.accessAllowed ? 'block' : 'none';\n",
              "\n",
              "        async function convertToInteractive(key) {\n",
              "          const element = document.querySelector('#df-3e4036db-bf3b-48d2-9415-378580928c19');\n",
              "          const dataTable =\n",
              "            await google.colab.kernel.invokeFunction('convertToInteractive',\n",
              "                                                     [key], {});\n",
              "          if (!dataTable) return;\n",
              "\n",
              "          const docLinkHtml = 'Like what you see? Visit the ' +\n",
              "            '<a target=\"_blank\" href=https://colab.research.google.com/notebooks/data_table.ipynb>data table notebook</a>'\n",
              "            + ' to learn more about interactive tables.';\n",
              "          element.innerHTML = '';\n",
              "          dataTable['output_type'] = 'display_data';\n",
              "          await google.colab.output.renderOutput(dataTable, element);\n",
              "          const docLink = document.createElement('div');\n",
              "          docLink.innerHTML = docLinkHtml;\n",
              "          element.appendChild(docLink);\n",
              "        }\n",
              "      </script>\n",
              "    </div>\n",
              "  </div>\n",
              "  "
            ]
          },
          "metadata": {},
          "execution_count": 13
        }
      ]
    },
    {
      "cell_type": "code",
      "source": [
        "#Выполняем предобработку датасета \n",
        "df.info() # выведем сводную информацию\n",
        "df.isna().sum() # найдем количество пропусков в колонках\n",
        "df.describe() \n"
      ],
      "metadata": {
        "colab": {
          "base_uri": "https://localhost:8080/",
          "height": 456
        },
        "id": "nUS2EPYIYjRA",
        "outputId": "2cb87ea7-45bc-4c94-8021-adc1d2c84c83"
      },
      "execution_count": null,
      "outputs": [
        {
          "output_type": "stream",
          "name": "stdout",
          "text": [
            "<class 'pandas.core.frame.DataFrame'>\n",
            "RangeIndex: 30 entries, 0 to 29\n",
            "Data columns (total 2 columns):\n",
            " #   Column           Non-Null Count  Dtype  \n",
            "---  ------           --------------  -----  \n",
            " 0   YearsExperience  30 non-null     float64\n",
            " 1   Salary           30 non-null     float64\n",
            "dtypes: float64(2)\n",
            "memory usage: 608.0 bytes\n"
          ]
        },
        {
          "output_type": "execute_result",
          "data": {
            "text/plain": [
              "       YearsExperience         Salary\n",
              "count        30.000000      30.000000\n",
              "mean          5.313333   76003.000000\n",
              "std           2.837888   27414.429785\n",
              "min           1.100000   37731.000000\n",
              "25%           3.200000   56720.750000\n",
              "50%           4.700000   65237.000000\n",
              "75%           7.700000  100544.750000\n",
              "max          10.500000  122391.000000"
            ],
            "text/html": [
              "\n",
              "  <div id=\"df-a07c895f-ebe3-4ad2-9c5d-bb1dca0ec4fa\">\n",
              "    <div class=\"colab-df-container\">\n",
              "      <div>\n",
              "<style scoped>\n",
              "    .dataframe tbody tr th:only-of-type {\n",
              "        vertical-align: middle;\n",
              "    }\n",
              "\n",
              "    .dataframe tbody tr th {\n",
              "        vertical-align: top;\n",
              "    }\n",
              "\n",
              "    .dataframe thead th {\n",
              "        text-align: right;\n",
              "    }\n",
              "</style>\n",
              "<table border=\"1\" class=\"dataframe\">\n",
              "  <thead>\n",
              "    <tr style=\"text-align: right;\">\n",
              "      <th></th>\n",
              "      <th>YearsExperience</th>\n",
              "      <th>Salary</th>\n",
              "    </tr>\n",
              "  </thead>\n",
              "  <tbody>\n",
              "    <tr>\n",
              "      <th>count</th>\n",
              "      <td>30.000000</td>\n",
              "      <td>30.000000</td>\n",
              "    </tr>\n",
              "    <tr>\n",
              "      <th>mean</th>\n",
              "      <td>5.313333</td>\n",
              "      <td>76003.000000</td>\n",
              "    </tr>\n",
              "    <tr>\n",
              "      <th>std</th>\n",
              "      <td>2.837888</td>\n",
              "      <td>27414.429785</td>\n",
              "    </tr>\n",
              "    <tr>\n",
              "      <th>min</th>\n",
              "      <td>1.100000</td>\n",
              "      <td>37731.000000</td>\n",
              "    </tr>\n",
              "    <tr>\n",
              "      <th>25%</th>\n",
              "      <td>3.200000</td>\n",
              "      <td>56720.750000</td>\n",
              "    </tr>\n",
              "    <tr>\n",
              "      <th>50%</th>\n",
              "      <td>4.700000</td>\n",
              "      <td>65237.000000</td>\n",
              "    </tr>\n",
              "    <tr>\n",
              "      <th>75%</th>\n",
              "      <td>7.700000</td>\n",
              "      <td>100544.750000</td>\n",
              "    </tr>\n",
              "    <tr>\n",
              "      <th>max</th>\n",
              "      <td>10.500000</td>\n",
              "      <td>122391.000000</td>\n",
              "    </tr>\n",
              "  </tbody>\n",
              "</table>\n",
              "</div>\n",
              "      <button class=\"colab-df-convert\" onclick=\"convertToInteractive('df-a07c895f-ebe3-4ad2-9c5d-bb1dca0ec4fa')\"\n",
              "              title=\"Convert this dataframe to an interactive table.\"\n",
              "              style=\"display:none;\">\n",
              "        \n",
              "  <svg xmlns=\"http://www.w3.org/2000/svg\" height=\"24px\"viewBox=\"0 0 24 24\"\n",
              "       width=\"24px\">\n",
              "    <path d=\"M0 0h24v24H0V0z\" fill=\"none\"/>\n",
              "    <path d=\"M18.56 5.44l.94 2.06.94-2.06 2.06-.94-2.06-.94-.94-2.06-.94 2.06-2.06.94zm-11 1L8.5 8.5l.94-2.06 2.06-.94-2.06-.94L8.5 2.5l-.94 2.06-2.06.94zm10 10l.94 2.06.94-2.06 2.06-.94-2.06-.94-.94-2.06-.94 2.06-2.06.94z\"/><path d=\"M17.41 7.96l-1.37-1.37c-.4-.4-.92-.59-1.43-.59-.52 0-1.04.2-1.43.59L10.3 9.45l-7.72 7.72c-.78.78-.78 2.05 0 2.83L4 21.41c.39.39.9.59 1.41.59.51 0 1.02-.2 1.41-.59l7.78-7.78 2.81-2.81c.8-.78.8-2.07 0-2.86zM5.41 20L4 18.59l7.72-7.72 1.47 1.35L5.41 20z\"/>\n",
              "  </svg>\n",
              "      </button>\n",
              "      \n",
              "  <style>\n",
              "    .colab-df-container {\n",
              "      display:flex;\n",
              "      flex-wrap:wrap;\n",
              "      gap: 12px;\n",
              "    }\n",
              "\n",
              "    .colab-df-convert {\n",
              "      background-color: #E8F0FE;\n",
              "      border: none;\n",
              "      border-radius: 50%;\n",
              "      cursor: pointer;\n",
              "      display: none;\n",
              "      fill: #1967D2;\n",
              "      height: 32px;\n",
              "      padding: 0 0 0 0;\n",
              "      width: 32px;\n",
              "    }\n",
              "\n",
              "    .colab-df-convert:hover {\n",
              "      background-color: #E2EBFA;\n",
              "      box-shadow: 0px 1px 2px rgba(60, 64, 67, 0.3), 0px 1px 3px 1px rgba(60, 64, 67, 0.15);\n",
              "      fill: #174EA6;\n",
              "    }\n",
              "\n",
              "    [theme=dark] .colab-df-convert {\n",
              "      background-color: #3B4455;\n",
              "      fill: #D2E3FC;\n",
              "    }\n",
              "\n",
              "    [theme=dark] .colab-df-convert:hover {\n",
              "      background-color: #434B5C;\n",
              "      box-shadow: 0px 1px 3px 1px rgba(0, 0, 0, 0.15);\n",
              "      filter: drop-shadow(0px 1px 2px rgba(0, 0, 0, 0.3));\n",
              "      fill: #FFFFFF;\n",
              "    }\n",
              "  </style>\n",
              "\n",
              "      <script>\n",
              "        const buttonEl =\n",
              "          document.querySelector('#df-a07c895f-ebe3-4ad2-9c5d-bb1dca0ec4fa button.colab-df-convert');\n",
              "        buttonEl.style.display =\n",
              "          google.colab.kernel.accessAllowed ? 'block' : 'none';\n",
              "\n",
              "        async function convertToInteractive(key) {\n",
              "          const element = document.querySelector('#df-a07c895f-ebe3-4ad2-9c5d-bb1dca0ec4fa');\n",
              "          const dataTable =\n",
              "            await google.colab.kernel.invokeFunction('convertToInteractive',\n",
              "                                                     [key], {});\n",
              "          if (!dataTable) return;\n",
              "\n",
              "          const docLinkHtml = 'Like what you see? Visit the ' +\n",
              "            '<a target=\"_blank\" href=https://colab.research.google.com/notebooks/data_table.ipynb>data table notebook</a>'\n",
              "            + ' to learn more about interactive tables.';\n",
              "          element.innerHTML = '';\n",
              "          dataTable['output_type'] = 'display_data';\n",
              "          await google.colab.output.renderOutput(dataTable, element);\n",
              "          const docLink = document.createElement('div');\n",
              "          docLink.innerHTML = docLinkHtml;\n",
              "          element.appendChild(docLink);\n",
              "        }\n",
              "      </script>\n",
              "    </div>\n",
              "  </div>\n",
              "  "
            ]
          },
          "metadata": {},
          "execution_count": 12
        }
      ]
    },
    {
      "cell_type": "code",
      "source": [
        "plt.scatter (df['YearsExperience'],df['Salary'],color='b',label='Зависимость ЗП от стажа работы ')\n",
        "plt.xlabel('Стаж в годах ')\n",
        "plt.ylabel('Зарплата')\n",
        "plt.show()\n"
      ],
      "metadata": {
        "colab": {
          "base_uri": "https://localhost:8080/",
          "height": 279
        },
        "id": "JXFFNhjmdqI6",
        "outputId": "ef9e022c-ee9a-4af9-b349-8b3827f6581c"
      },
      "execution_count": null,
      "outputs": [
        {
          "output_type": "display_data",
          "data": {
            "text/plain": [
              "<Figure size 432x288 with 1 Axes>"
            ],
            "image/png": "[encoded data removed]"
          },
          "metadata": {
            "needs_background": "light"
          }
        }
      ]
    },
    {
      "cell_type": "code",
      "source": [
        "#Дифференцируем\n",
        "X=df.iloc[:,:-1].values\n",
        "y=df.iloc[:,1].values\n",
        "print(X)\n",
        "print(y)\n",
        "#Теперь имея атрибуты и метки необходимо разделить их на обучающий и тестовый набор\n",
        "#Ниже разбиваем 80 % на обучающий и 20 % на тестовый \n",
        "X_train,X_test,y_train,y_test=train_test_split(X,y,test_size=0.2,random_state=0)\n",
        "#Далее можно обучить алгоритм линейной регресии \n",
        "#Необходимо импортировать класс LinearRegression , создать его экземпляр и вызвать метод fit \n",
        "regressor= LinearRegression()\n",
        "regressor.fit(X_train,y_train)\n",
        "#Приводим получившиеся коэффициены для линии регресии\n",
        "print(regressor.intercept_)\n",
        "print(regressor.coef_)"
      ],
      "metadata": {
        "colab": {
          "base_uri": "https://localhost:8080/"
        },
        "id": "sdi_nzgneens",
        "outputId": "66e2f005-db06-47fd-d69b-51aca226d7bb"
      },
      "execution_count": null,
      "outputs": [
        {
          "output_type": "stream",
          "name": "stdout",
          "text": [
            "[[ 1.1]\n",
            " [ 1.3]\n",
            " [ 1.5]\n",
            " [ 2. ]\n",
            " [ 2.2]\n",
            " [ 2.9]\n",
            " [ 3. ]\n",
            " [ 3.2]\n",
            " [ 3.2]\n",
            " [ 3.7]\n",
            " [ 3.9]\n",
            " [ 4. ]\n",
            " [ 4. ]\n",
            " [ 4.1]\n",
            " [ 4.5]\n",
            " [ 4.9]\n",
            " [ 5.1]\n",
            " [ 5.3]\n",
            " [ 5.9]\n",
            " [ 6. ]\n",
            " [ 6.8]\n",
            " [ 7.1]\n",
            " [ 7.9]\n",
            " [ 8.2]\n",
            " [ 8.7]\n",
            " [ 9. ]\n",
            " [ 9.5]\n",
            " [ 9.6]\n",
            " [10.3]\n",
            " [10.5]]\n",
            "[ 39343.  46205.  37731.  43525.  39891.  56642.  60150.  54445.  64445.\n",
            "  57189.  63218.  55794.  56957.  57081.  61111.  67938.  66029.  83088.\n",
            "  81363.  93940.  91738.  98273. 101302. 113812. 109431. 105582. 116969.\n",
            " 112635. 122391. 121872.]\n",
            "26780.09915062818\n",
            "[9312.57512673]\n"
          ]
        }
      ]
    },
    {
      "cell_type": "code",
      "source": [
        "y_pred=regressor.predict(X_test)\n",
        "#Сравним фактические значения с прогнозируемыми\n",
        "df=pd.DataFrame({'Actual':y_test,'Predicted':y_pred})\n",
        "df\n",
        "#Визуализируем резуьтат представления в гистограммы \n",
        "df.plot(kind='bar')\n",
        "plt.grid(which='major',linestyle='-',linewidth='0.5',color='green')\n",
        "plt.grid(which='minor',linestyle=':',linewidth='0.5',color='black')\n",
        "plt.scatter(X_test,y_test,color='gray')\n",
        "plt.plot(X_test,y_pred,color='red',linewidth=2)\n",
        "plt.show()"
      ],
      "metadata": {
        "colab": {
          "base_uri": "https://localhost:8080/",
          "height": 262
        },
        "id": "sHl2201qh0cI",
        "outputId": "da24398c-62ee-48ed-e8f6-50aae944fae7"
      },
      "execution_count": null,
      "outputs": [
        {
          "output_type": "display_data",
          "data": {
            "text/plain": [
              "<Figure size 432x288 with 1 Axes>"
            ],
            "image/png": "[encoded data removed]"
          },
          "metadata": {
            "needs_background": "light"
          }
        }
      ]
    },
    {
      "cell_type": "markdown",
      "source": [
        "1.3. Теоретический материал – Множественная регрессия\n",
        "В предыдущем примере мы проиллюстрировали линейную регрессию \n",
        "с двумя переменными. Однако, почти все реальные задачи имеют больше \n",
        "параметров. Линейная регрессия с участием нескольких переменных \n",
        "называется «множественной линейной регрессией» или многомерной \n",
        "линейной регрессией. Шаги для выполнения множественной линейной \n",
        "регрессии аналогичны шагам для простой . Разница заключается в оценке. \n",
        "Вы можете использовать множественную регрессию, чтобы узнать, какой \n",
        "фактор оказывает наибольшее влияние на прогнозируемый результат или \n",
        "как различные переменные связаны друг с другом.\n",
        "1.3.1 Пример\n",
        "Задача:\n",
        "Для решения задачи множественной регрессии можно задействовать уже \n",
        "известный метод numpy.linalg.lstsq."
      ],
      "metadata": {
        "id": "fAqictvLjAAi"
      }
    },
    {
      "cell_type": "code",
      "source": [
        "\n",
        "#Импортируем необходимые библиотеки \n",
        "#Используем пандас и нампай для для обраотки данных \n",
        "# matoillib для визуализации  и sklearn для оьучения наборов данных и импорта моделей \n",
        "import numpy, scipy, matplotlib\n",
        "import matplotlib.pyplot as plt\n",
        "from scipy.optimize import curve_fit\n",
        "import pandas as pd\n",
        "from sklearn.model_selection import  train_test_split\n",
        "from sklearn.linear_model import  LinearRegression\n",
        "from sklearn import metrics\n",
        "import numpy as np\n",
        "y=[1,2,3,4,3,4,5,3,5,5,4,5,4,5,4,5,6,0,6,3,1,3,1]\n",
        "\n",
        "x=[[0,2,4,1,5,4,5,9,9,9,3,7,8,8,6,6,5,5,5,6,6,5,5],\n",
        "   [2,3,4,5,2,1,2,4,5,7,6,5,3,2,3,5,9,7,3,2,1,2,3],\n",
        "   [1,2,3,5,6,3,2,3,3,4,4,6,7,8,5,3,3,3,2,1,1,2,2]\n",
        "   ]\n",
        "new_y=np.array(y)\n",
        "new_y=new_y.transpose()\n",
        "df1=pd.DataFrame(new_y)\n",
        "new_x=np.array(x)\n",
        "new_x=new_x.transpose()\n",
        "df2=pd.DataFrame(new_x)\n",
        "df1=df1.rename(columns={0:'y'},inplace=False)\n",
        "print(df1)\n",
        "df2=df2.rename(columns={0:'x1',1:'x2',2:'x3'},inplace=False)\n",
        "df2\n",
        "frames=[df1,df2]\n",
        "dataset=pd.concat([df1,df2],axis=1,join='inner')\n",
        "dataset.head()\n",
        "#Изучим данные \n",
        "print(dataset.shape)\n",
        "dataset.describe()\n",
        "X=dataset[['x1','x2','x3']]\n",
        "y=dataset['y']\n",
        "#Теперь имея атрибуты и метки необходимо разделить их на обучающий и тестовый набор\n",
        "#Ниже разбиваем 80 % на обучающий и 20 % на тестовый \n",
        "X_train,X_test,y_train,y_test=train_test_split(X,y,test_size=0.2,random_state=0)\n",
        "regressor= LinearRegression()\n",
        "regressor.fit(X_train,y_train)\n",
        "#Выведем коэффициенты модели \n",
        "coeff_df=pd.DataFrame(regressor.coef_,X.columns,columns=['Coefficient'])\n",
        "print(coeff_df)\n",
        "#Делаем прогноз\n",
        "y_pred=regressor.predict(X_test)\n",
        "#Сравним фактические значения с прогнозируемыми\n",
        "df=pd.DataFrame({'Actual':y_test,'Predicted':y_pred})\n",
        "df\n",
        "#Оценка производительности алгоритма \n",
        "print('Mean sequared Error :',metrics.mean_squared_error(y_test,y_pred))\n",
        "\n"
      ],
      "metadata": {
        "colab": {
          "base_uri": "https://localhost:8080/"
        },
        "id": "PhVv1G0wjCf2",
        "outputId": "d29bbea2-7ccc-4c66-9145-ecd471da2bb2"
      },
      "execution_count": null,
      "outputs": [
        {
          "output_type": "stream",
          "name": "stdout",
          "text": [
            "    y\n",
            "0   1\n",
            "1   2\n",
            "2   3\n",
            "3   4\n",
            "4   3\n",
            "5   4\n",
            "6   5\n",
            "7   3\n",
            "8   5\n",
            "9   5\n",
            "10  4\n",
            "11  5\n",
            "12  4\n",
            "13  5\n",
            "14  4\n",
            "15  5\n",
            "16  6\n",
            "17  0\n",
            "18  6\n",
            "19  3\n",
            "20  1\n",
            "21  3\n",
            "22  1\n",
            "(23, 4)\n",
            "    Coefficient\n",
            "x1     0.213713\n",
            "x2     0.087768\n",
            "x3     0.140449\n",
            "Mean sequared Error : 1.0880793228415608\n"
          ]
        }
      ]
    },
    {
      "cell_type": "markdown",
      "source": [
        "Задание\n",
        "Задача:\n",
        "Постройте модель множественной линейной регрессии для произвольных \n",
        "данных из нескольких столбцов. Для примера можно взять потребления \n",
        "газа (в миллионах галлонов) в 48 штатах США или набор данных о \n",
        "качестве красного вина (1) и (2) соответственно. Найдите коэффициенты\n",
        "множественной регрессии. Постройте прогноз.\n",
        "1. \n",
        "https://raw.githubusercontent.com/likarajo/petrol_consumption/master/data/pe\n",
        "trol_consumption.csv\n",
        "2. https://raw.githubusercontent.com/aniruddhachoudhury/Red-Wine\u0002Quality/master/winequality-red.csv\n",
        "\n",
        "\n",
        "Решение:"
      ],
      "metadata": {
        "id": "irq2uAPj1b-Y"
      }
    },
    {
      "cell_type": "code",
      "source": [
        "url = 'https://raw.githubusercontent.com/aniruddhachoudhury/Red-Wine-Quality/master/winequality-red.csv'\n",
        "df=pd.read_csv(url)\n",
        "df\n",
        "df.info()"
      ],
      "metadata": {
        "colab": {
          "base_uri": "https://localhost:8080/"
        },
        "id": "Ok9LNm261fdy",
        "outputId": "1963bbeb-008b-4866-a837-02b488b2b3a8"
      },
      "execution_count": null,
      "outputs": [
        {
          "output_type": "stream",
          "name": "stdout",
          "text": [
            "<class 'pandas.core.frame.DataFrame'>\n",
            "RangeIndex: 1599 entries, 0 to 1598\n",
            "Data columns (total 12 columns):\n",
            " #   Column                Non-Null Count  Dtype  \n",
            "---  ------                --------------  -----  \n",
            " 0   fixed acidity         1599 non-null   float64\n",
            " 1   volatile acidity      1599 non-null   float64\n",
            " 2   citric acid           1599 non-null   float64\n",
            " 3   residual sugar        1599 non-null   float64\n",
            " 4   chlorides             1599 non-null   float64\n",
            " 5   free sulfur dioxide   1599 non-null   float64\n",
            " 6   total sulfur dioxide  1599 non-null   float64\n",
            " 7   density               1599 non-null   float64\n",
            " 8   pH                    1599 non-null   float64\n",
            " 9   sulphates             1599 non-null   float64\n",
            " 10  alcohol               1599 non-null   float64\n",
            " 11  quality               1599 non-null   int64  \n",
            "dtypes: float64(11), int64(1)\n",
            "memory usage: 150.0 KB\n"
          ]
        }
      ]
    },
    {
      "cell_type": "code",
      "source": [
        "X=df.iloc[:,-2].values\n",
        "y=df.iloc[:,1].values\n",
        "X_train,X_test,y_train,y_test=train_test_split(X,y,test_size=0.2,random_state=0)\n",
        "\n",
        "regressor= LinearRegression()\n",
        "regressor.fit(X_train,y_train)\n",
        "#Выведем коэффициенты модели \n",
        "print(regressor.intercept_)\n",
        "print(regressor.coef_)\n",
        "print(coeff_df)\n",
        "#Делаем прогноз\n",
        "y_pred=regressor.predict(X_test)\n",
        "#Сравним фактические значения с прогнозируемыми\n",
        "df=pd.DataFrame({'Actual':y_test,'Predicted':y_pred})\n",
        "df\n",
        "#Оценка производительности алгоритма \n",
        "print('Mean sequared Error :',metrics.mean_squared_error(y_test,y_pred))\n",
        "y_pred=regressor.predict(X_test)\n",
        "y_pred=regressor.predict(X_test)\n",
        "#Сравним фактические значения с прогнозируемыми\n",
        "df=pd.DataFrame({'Actual':y_test,'Predicted':y_pred})\n",
        "print(df)\n",
        "#Визуализируем резуьтат представления в гистограммы \n",
        "df.plot(kind='bar')\n",
        "plt.scatter(X_test,y_test,color='gray')\n",
        "plt.plot(X_test,y_pred,color='red',linewidth=1)\n",
        "plt.show()\n"
      ],
      "metadata": {
        "colab": {
          "base_uri": "https://localhost:8080/",
          "height": 555
        },
        "id": "RqOXS2MP2CiT",
        "outputId": "b8a8d6fa-84b5-4614-bdf9-ee4320cecaaf"
      },
      "execution_count": null,
      "outputs": [
        {
          "output_type": "error",
          "ename": "ValueError",
          "evalue": "ignored",
          "traceback": [
            "\u001b[0;31m---------------------------------------------------------------------------\u001b[0m",
            "\u001b[0;31mValueError\u001b[0m                                Traceback (most recent call last)",
            "\u001b[0;32m<ipython-input-5-7ccfe5a1fc55>\u001b[0m in \u001b[0;36m<module>\u001b[0;34m\u001b[0m\n\u001b[1;32m      4\u001b[0m \u001b[0;34m\u001b[0m\u001b[0m\n\u001b[1;32m      5\u001b[0m \u001b[0mregressor\u001b[0m\u001b[0;34m=\u001b[0m \u001b[0mLinearRegression\u001b[0m\u001b[0;34m(\u001b[0m\u001b[0;34m)\u001b[0m\u001b[0;34m\u001b[0m\u001b[0;34m\u001b[0m\u001b[0m\n\u001b[0;32m----> 6\u001b[0;31m \u001b[0mregressor\u001b[0m\u001b[0;34m.\u001b[0m\u001b[0mfit\u001b[0m\u001b[0;34m(\u001b[0m\u001b[0mX_train\u001b[0m\u001b[0;34m,\u001b[0m\u001b[0my_train\u001b[0m\u001b[0;34m)\u001b[0m\u001b[0;34m\u001b[0m\u001b[0;34m\u001b[0m\u001b[0m\n\u001b[0m\u001b[1;32m      7\u001b[0m \u001b[0;31m#Выведем коэффициенты модели\u001b[0m\u001b[0;34m\u001b[0m\u001b[0;34m\u001b[0m\u001b[0;34m\u001b[0m\u001b[0m\n\u001b[1;32m      8\u001b[0m \u001b[0mprint\u001b[0m\u001b[0;34m(\u001b[0m\u001b[0mregressor\u001b[0m\u001b[0;34m.\u001b[0m\u001b[0mintercept_\u001b[0m\u001b[0;34m)\u001b[0m\u001b[0;34m\u001b[0m\u001b[0;34m\u001b[0m\u001b[0m\n",
            "\u001b[0;32m/usr/local/lib/python3.7/dist-packages/sklearn/linear_model/_base.py\u001b[0m in \u001b[0;36mfit\u001b[0;34m(self, X, y, sample_weight)\u001b[0m\n\u001b[1;32m    661\u001b[0m \u001b[0;34m\u001b[0m\u001b[0m\n\u001b[1;32m    662\u001b[0m         X, y = self._validate_data(\n\u001b[0;32m--> 663\u001b[0;31m             \u001b[0mX\u001b[0m\u001b[0;34m,\u001b[0m \u001b[0my\u001b[0m\u001b[0;34m,\u001b[0m \u001b[0maccept_sparse\u001b[0m\u001b[0;34m=\u001b[0m\u001b[0maccept_sparse\u001b[0m\u001b[0;34m,\u001b[0m \u001b[0my_numeric\u001b[0m\u001b[0;34m=\u001b[0m\u001b[0;32mTrue\u001b[0m\u001b[0;34m,\u001b[0m \u001b[0mmulti_output\u001b[0m\u001b[0;34m=\u001b[0m\u001b[0;32mTrue\u001b[0m\u001b[0;34m\u001b[0m\u001b[0;34m\u001b[0m\u001b[0m\n\u001b[0m\u001b[1;32m    664\u001b[0m         )\n\u001b[1;32m    665\u001b[0m \u001b[0;34m\u001b[0m\u001b[0m\n",
            "\u001b[0;32m/usr/local/lib/python3.7/dist-packages/sklearn/base.py\u001b[0m in \u001b[0;36m_validate_data\u001b[0;34m(self, X, y, reset, validate_separately, **check_params)\u001b[0m\n\u001b[1;32m    579\u001b[0m                 \u001b[0my\u001b[0m \u001b[0;34m=\u001b[0m \u001b[0mcheck_array\u001b[0m\u001b[0;34m(\u001b[0m\u001b[0my\u001b[0m\u001b[0;34m,\u001b[0m \u001b[0;34m**\u001b[0m\u001b[0mcheck_y_params\u001b[0m\u001b[0;34m)\u001b[0m\u001b[0;34m\u001b[0m\u001b[0;34m\u001b[0m\u001b[0m\n\u001b[1;32m    580\u001b[0m             \u001b[0;32melse\u001b[0m\u001b[0;34m:\u001b[0m\u001b[0;34m\u001b[0m\u001b[0;34m\u001b[0m\u001b[0m\n\u001b[0;32m--> 581\u001b[0;31m                 \u001b[0mX\u001b[0m\u001b[0;34m,\u001b[0m \u001b[0my\u001b[0m \u001b[0;34m=\u001b[0m \u001b[0mcheck_X_y\u001b[0m\u001b[0;34m(\u001b[0m\u001b[0mX\u001b[0m\u001b[0;34m,\u001b[0m \u001b[0my\u001b[0m\u001b[0;34m,\u001b[0m \u001b[0;34m**\u001b[0m\u001b[0mcheck_params\u001b[0m\u001b[0;34m)\u001b[0m\u001b[0;34m\u001b[0m\u001b[0;34m\u001b[0m\u001b[0m\n\u001b[0m\u001b[1;32m    582\u001b[0m             \u001b[0mout\u001b[0m \u001b[0;34m=\u001b[0m \u001b[0mX\u001b[0m\u001b[0;34m,\u001b[0m \u001b[0my\u001b[0m\u001b[0;34m\u001b[0m\u001b[0;34m\u001b[0m\u001b[0m\n\u001b[1;32m    583\u001b[0m \u001b[0;34m\u001b[0m\u001b[0m\n",
            "\u001b[0;32m/usr/local/lib/python3.7/dist-packages/sklearn/utils/validation.py\u001b[0m in \u001b[0;36mcheck_X_y\u001b[0;34m(X, y, accept_sparse, accept_large_sparse, dtype, order, copy, force_all_finite, ensure_2d, allow_nd, multi_output, ensure_min_samples, ensure_min_features, y_numeric, estimator)\u001b[0m\n\u001b[1;32m    974\u001b[0m         \u001b[0mensure_min_samples\u001b[0m\u001b[0;34m=\u001b[0m\u001b[0mensure_min_samples\u001b[0m\u001b[0;34m,\u001b[0m\u001b[0;34m\u001b[0m\u001b[0;34m\u001b[0m\u001b[0m\n\u001b[1;32m    975\u001b[0m         \u001b[0mensure_min_features\u001b[0m\u001b[0;34m=\u001b[0m\u001b[0mensure_min_features\u001b[0m\u001b[0;34m,\u001b[0m\u001b[0;34m\u001b[0m\u001b[0;34m\u001b[0m\u001b[0m\n\u001b[0;32m--> 976\u001b[0;31m         \u001b[0mestimator\u001b[0m\u001b[0;34m=\u001b[0m\u001b[0mestimator\u001b[0m\u001b[0;34m,\u001b[0m\u001b[0;34m\u001b[0m\u001b[0;34m\u001b[0m\u001b[0m\n\u001b[0m\u001b[1;32m    977\u001b[0m     )\n\u001b[1;32m    978\u001b[0m \u001b[0;34m\u001b[0m\u001b[0m\n",
            "\u001b[0;32m/usr/local/lib/python3.7/dist-packages/sklearn/utils/validation.py\u001b[0m in \u001b[0;36mcheck_array\u001b[0;34m(array, accept_sparse, accept_large_sparse, dtype, order, copy, force_all_finite, ensure_2d, allow_nd, ensure_min_samples, ensure_min_features, estimator)\u001b[0m\n\u001b[1;32m    771\u001b[0m                     \u001b[0;34m\"Reshape your data either using array.reshape(-1, 1) if \"\u001b[0m\u001b[0;34m\u001b[0m\u001b[0;34m\u001b[0m\u001b[0m\n\u001b[1;32m    772\u001b[0m                     \u001b[0;34m\"your data has a single feature or array.reshape(1, -1) \"\u001b[0m\u001b[0;34m\u001b[0m\u001b[0;34m\u001b[0m\u001b[0m\n\u001b[0;32m--> 773\u001b[0;31m                     \u001b[0;34m\"if it contains a single sample.\"\u001b[0m\u001b[0;34m.\u001b[0m\u001b[0mformat\u001b[0m\u001b[0;34m(\u001b[0m\u001b[0marray\u001b[0m\u001b[0;34m)\u001b[0m\u001b[0;34m\u001b[0m\u001b[0;34m\u001b[0m\u001b[0m\n\u001b[0m\u001b[1;32m    774\u001b[0m                 )\n\u001b[1;32m    775\u001b[0m \u001b[0;34m\u001b[0m\u001b[0m\n",
            "\u001b[0;31mValueError\u001b[0m: Expected 2D array, got 1D array instead:\narray=[0.54569705 0.50599597 0.5609667  0.5609667  0.54264312 0.55180491\n 0.48156454 0.54875098 0.59150599 0.51210383 0.51515776 0.54875098\n 0.51515776 0.46934882 0.55485884 0.56707456 0.53958919 0.55485884\n 0.55180491 0.55485884 0.46018703 0.56707456 0.53958919 0.55791277\n 0.46324096 0.46629489 0.56707456 0.49072633 0.55791277 0.53042741\n 0.54264312 0.55791277 0.50294204 0.55180491 0.4571331  0.57318242\n 0.49988811 0.54875098 0.5609667  0.52126562 0.51210383 0.47240275\n 0.55180491 0.57318242 0.56707456 0.52737348 0.50294204 0.43270167\n 0.53958919 0.55791277 0.48156454].\nReshape your data either using array.reshape(-1, 1) if your data has a single feature or array.reshape(1, -1) if it contains a single sample."
          ]
        }
      ]
    },
    {
      "cell_type": "markdown",
      "source": [
        "Задание*\n",
        "Задача: Экспериментально получены N − значений величины Y при \n",
        "различных значениях величины X. Построить полиномы первой и второй \n",
        "степени, аппроксимирующие результаты эксперимента, с применением \n",
        "метода наименьших квадратов. Результаты выводятся в виде таблиц \n",
        "значений и графиков, полученных полиномов. Расчеты выполняются ручкой \n",
        "на бумаге и сравниваются с результатами программы."
      ],
      "metadata": {
        "id": "OQw7ABFk_kiJ"
      }
    },
    {
      "cell_type": "code",
      "source": [
        "from numpy import * \n",
        "import numpy as np\n",
        "import matplotlib.pyplot as plt\n",
        "from scipy.optimize import curve_fit\n",
        "import pandas as pd\n",
        "from sklearn.model_selection import  train_test_split\n",
        "from sklearn.linear_model import  LinearRegression\n",
        "from sklearn import metrics\n",
        "from numpy.random import *\n",
        "x=np.array([0.0,0.2,0.4,0.6,0.8,1])\n",
        "y=np.array([3.0,6.0,3.0,6.0,4.0,3.0])\n",
        "\n",
        "#Нахождение коэффициентов функции вида y = ax+b методом наименьших квадратов \n",
        "print('-----------------------------------------------------------------------------------')\n",
        "A=np.vstack([x,np.ones(len(x))]).T\n",
        "print(A)\n",
        "#Используем метод lstsq для решения уравнения относительно вектора p\n",
        "m,c=np.linalg.lstsq(A,y,rcond=None)[0]\n",
        "print('Уравнение тренда имеет следующий вид: ',m,'t','+',c)\n",
        "#Находим коэффициенты при составляющих вектора m\n",
        "\n",
        "#Рисуем точки \n",
        "plt.plot(x,y,'o',label='Исходные данные',markersize=10)\n",
        "plt.plot(x,m*x+c,'r',label='Линейная экстраполяция')\n",
        "plt.legend()\n",
        "plt.show()"
      ],
      "metadata": {
        "id": "EIy84kql_miK",
        "colab": {
          "base_uri": "https://localhost:8080/",
          "height": 404
        },
        "outputId": "8a244f08-510c-4364-e460-9d9f50f4137d"
      },
      "execution_count": null,
      "outputs": [
        {
          "output_type": "stream",
          "name": "stdout",
          "text": [
            "-----------------------------------------------------------------------------------\n",
            "[[0.  1. ]\n",
            " [0.2 1. ]\n",
            " [0.4 1. ]\n",
            " [0.6 1. ]\n",
            " [0.8 1. ]\n",
            " [1.  1. ]]\n",
            "Уравнение тренда имеет следующий вид:  -0.4285714285714293 t + 4.380952380952379\n"
          ]
        },
        {
          "output_type": "display_data",
          "data": {
            "text/plain": [
              "<Figure size 432x288 with 1 Axes>"
            ],
            "image/png": "[encoded data removed]"
          },
          "metadata": {
            "needs_background": "light"
          }
        }
      ]
    },
    {
      "cell_type": "code",
      "source": [
        "from numpy import * \n",
        "from numpy.random import *\n",
        "#Генерируем случайные X и Y\n",
        "delta=1.0\n",
        "x=np.array([0.0,0.2,0.4,0.6,0.8,1])\n",
        "y=np.array([3.0,6.0,3.0,6.0,4.0,3.0])\n",
        "\n",
        "#Записывам данные в файл \n",
        "x.tofile('x_data.txt','\\n')\n",
        "y.tofile('y_data.txt','\\n')\n",
        "#Читаем данные из файла\n",
        "print('-----------------------------------------------------------------------------------')\n",
        "x=fromfile('x_data.txt',float,sep='\\n')\n",
        "y=fromfile('y_data.txt',float,sep='\\n')\n",
        "print(x)\n",
        "print(y)\n",
        "#Нахождение коэффициентов функции вида y = ax^2+bx+c методом наименьших квадратов \n",
        "#Задаем вектор m=[x**2,x,E]\n",
        "print('-----------------------------------------------------------------------------------')\n",
        "m=vstack((x**2,x,ones(6))).T\n",
        "print('Vector m =',m)\n",
        "#Находим коэффициенты при составляющих вектора m\n",
        "\n",
        "s=np.linalg.lstsq(m,y,rcond=None)[0]\n",
        "print(' Квадратичная регрессия =',s)\n",
        "\n",
        "#На отрезке [0,5]\n",
        "x_prec=linspace(0,1,6)\n",
        "#Рисуем точки \n",
        "plt.plot(x,y,'D')\n",
        "#Рисуем кривую вида y = ax^2+bx+c подставляя из решения коэффициента  s[0],s[1].s[2]\n",
        "plt.plot(x_prec,s[0]*x_prec**2+s[1]*x_prec+s[2],'-',lw=2)\n",
        "plt.grid()\n",
        "plt.savefig('парабола.png')"
      ],
      "metadata": {
        "colab": {
          "base_uri": "https://localhost:8080/",
          "height": 456
        },
        "id": "pATh4nn03V9Z",
        "outputId": "323cfcdc-cf81-47ff-cd66-77f9e9d4fa56"
      },
      "execution_count": null,
      "outputs": [
        {
          "output_type": "stream",
          "name": "stdout",
          "text": [
            "-----------------------------------------------------------------------------------\n",
            "[0.  0.2 0.4 0.6 0.8 1. ]\n",
            "[3. 6. 3. 6. 4. 3.]\n",
            "-----------------------------------------------------------------------------------\n",
            "Vector m = [[0.   0.   1.  ]\n",
            " [0.04 0.2  1.  ]\n",
            " [0.16 0.4  1.  ]\n",
            " [0.36 0.6  1.  ]\n",
            " [0.64 0.8  1.  ]\n",
            " [1.   1.   1.  ]]\n",
            " Квадратичная регрессия = [-7.14285714  6.71428571  3.42857143]\n"
          ]
        },
        {
          "output_type": "display_data",
          "data": {
            "text/plain": [
              "<Figure size 432x288 with 1 Axes>"
            ],
            "image/png": "[encoded data removed]"
          },
          "metadata": {
            "needs_background": "light"
          }
        }
      ]
    }
  ]
}